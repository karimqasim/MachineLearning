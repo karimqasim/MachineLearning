{
  "nbformat": 4,
  "nbformat_minor": 0,
  "metadata": {
    "colab": {
      "name": "BinaryClassification_Titanic.ipynb",
      "version": "0.3.2",
      "provenance": [],
      "include_colab_link": true
    },
    "kernelspec": {
      "name": "python3",
      "display_name": "Python 3"
    }
  },
  "cells": [
    {
      "cell_type": "markdown",
      "metadata": {
        "id": "view-in-github",
        "colab_type": "text"
      },
      "source": [
        "<a href=\"https://colab.research.google.com/github/karimqasim/MachineLearning/blob/master/BinaryClassification_Titanic.ipynb\" target=\"_parent\"><img src=\"https://colab.research.google.com/assets/colab-badge.svg\" alt=\"Open In Colab\"/></a>"
      ]
    },
    {
      "metadata": {
        "id": "3Fp_yl3O_rPQ",
        "colab_type": "code",
        "colab": {
          "base_uri": "https://localhost:8080/",
          "height": 204
        },
        "outputId": "0ceea076-d312-437d-dd99-98b1cb468efb"
      },
      "cell_type": "code",
      "source": [
        "!wget https://storage.googleapis.com/nicksdemobucket/titanic-train.csv"
      ],
      "execution_count": 135,
      "outputs": [
        {
          "output_type": "stream",
          "text": [
            "--2019-03-27 00:14:19--  https://storage.googleapis.com/nicksdemobucket/titanic-train.csv\n",
            "Resolving storage.googleapis.com (storage.googleapis.com)... 74.125.20.128, 2607:f8b0:400e:c00::80\n",
            "Connecting to storage.googleapis.com (storage.googleapis.com)|74.125.20.128|:443... connected.\n",
            "HTTP request sent, awaiting response... 200 OK\n",
            "Length: 61194 (60K) [application/octet-stream]\n",
            "Saving to: ‘titanic-train.csv.2’\n",
            "\n",
            "\rtitanic-train.csv.2   0%[                    ]       0  --.-KB/s               \rtitanic-train.csv.2 100%[===================>]  59.76K  --.-KB/s    in 0.001s  \n",
            "\n",
            "2019-03-27 00:14:19 (83.9 MB/s) - ‘titanic-train.csv.2’ saved [61194/61194]\n",
            "\n"
          ],
          "name": "stdout"
        }
      ]
    },
    {
      "metadata": {
        "id": "o7Z6XQl-AElj",
        "colab_type": "code",
        "colab": {}
      },
      "cell_type": "code",
      "source": [
        "import pandas as pd\n",
        "import numpy as np\n",
        "\n",
        "import matplotlib.pyplot as plt\n",
        "import seaborn as sns\n",
        "%matplotlib inline"
      ],
      "execution_count": 0,
      "outputs": []
    },
    {
      "metadata": {
        "id": "6SaKYfr_Af3v",
        "colab_type": "code",
        "colab": {}
      },
      "cell_type": "code",
      "source": [
        "train = pd.read_csv('titanic-train.csv')"
      ],
      "execution_count": 0,
      "outputs": []
    },
    {
      "metadata": {
        "id": "gMtFgW57Bl5C",
        "colab_type": "code",
        "colab": {
          "base_uri": "https://localhost:8080/",
          "height": 255
        },
        "outputId": "9412128c-f5de-4eb6-b27b-4db68cb77473"
      },
      "cell_type": "code",
      "source": [
        "train.head()"
      ],
      "execution_count": 138,
      "outputs": [
        {
          "output_type": "execute_result",
          "data": {
            "text/html": [
              "<div>\n",
              "<style scoped>\n",
              "    .dataframe tbody tr th:only-of-type {\n",
              "        vertical-align: middle;\n",
              "    }\n",
              "\n",
              "    .dataframe tbody tr th {\n",
              "        vertical-align: top;\n",
              "    }\n",
              "\n",
              "    .dataframe thead th {\n",
              "        text-align: right;\n",
              "    }\n",
              "</style>\n",
              "<table border=\"1\" class=\"dataframe\">\n",
              "  <thead>\n",
              "    <tr style=\"text-align: right;\">\n",
              "      <th></th>\n",
              "      <th>PassengerId</th>\n",
              "      <th>Survived</th>\n",
              "      <th>Pclass</th>\n",
              "      <th>Name</th>\n",
              "      <th>Sex</th>\n",
              "      <th>Age</th>\n",
              "      <th>SibSp</th>\n",
              "      <th>Parch</th>\n",
              "      <th>Ticket</th>\n",
              "      <th>Fare</th>\n",
              "      <th>Cabin</th>\n",
              "      <th>Embarked</th>\n",
              "    </tr>\n",
              "  </thead>\n",
              "  <tbody>\n",
              "    <tr>\n",
              "      <th>0</th>\n",
              "      <td>1</td>\n",
              "      <td>0</td>\n",
              "      <td>3</td>\n",
              "      <td>Braund, Mr. Owen Harris</td>\n",
              "      <td>male</td>\n",
              "      <td>22.0</td>\n",
              "      <td>1</td>\n",
              "      <td>0</td>\n",
              "      <td>A/5 21171</td>\n",
              "      <td>7.2500</td>\n",
              "      <td>NaN</td>\n",
              "      <td>S</td>\n",
              "    </tr>\n",
              "    <tr>\n",
              "      <th>1</th>\n",
              "      <td>2</td>\n",
              "      <td>1</td>\n",
              "      <td>1</td>\n",
              "      <td>Cumings, Mrs. John Bradley (Florence Briggs Th...</td>\n",
              "      <td>female</td>\n",
              "      <td>38.0</td>\n",
              "      <td>1</td>\n",
              "      <td>0</td>\n",
              "      <td>PC 17599</td>\n",
              "      <td>71.2833</td>\n",
              "      <td>C85</td>\n",
              "      <td>C</td>\n",
              "    </tr>\n",
              "    <tr>\n",
              "      <th>2</th>\n",
              "      <td>3</td>\n",
              "      <td>1</td>\n",
              "      <td>3</td>\n",
              "      <td>Heikkinen, Miss. Laina</td>\n",
              "      <td>female</td>\n",
              "      <td>26.0</td>\n",
              "      <td>0</td>\n",
              "      <td>0</td>\n",
              "      <td>STON/O2. 3101282</td>\n",
              "      <td>7.9250</td>\n",
              "      <td>NaN</td>\n",
              "      <td>S</td>\n",
              "    </tr>\n",
              "    <tr>\n",
              "      <th>3</th>\n",
              "      <td>4</td>\n",
              "      <td>1</td>\n",
              "      <td>1</td>\n",
              "      <td>Futrelle, Mrs. Jacques Heath (Lily May Peel)</td>\n",
              "      <td>female</td>\n",
              "      <td>35.0</td>\n",
              "      <td>1</td>\n",
              "      <td>0</td>\n",
              "      <td>113803</td>\n",
              "      <td>53.1000</td>\n",
              "      <td>C123</td>\n",
              "      <td>S</td>\n",
              "    </tr>\n",
              "    <tr>\n",
              "      <th>4</th>\n",
              "      <td>5</td>\n",
              "      <td>0</td>\n",
              "      <td>3</td>\n",
              "      <td>Allen, Mr. William Henry</td>\n",
              "      <td>male</td>\n",
              "      <td>35.0</td>\n",
              "      <td>0</td>\n",
              "      <td>0</td>\n",
              "      <td>373450</td>\n",
              "      <td>8.0500</td>\n",
              "      <td>NaN</td>\n",
              "      <td>S</td>\n",
              "    </tr>\n",
              "  </tbody>\n",
              "</table>\n",
              "</div>"
            ],
            "text/plain": [
              "   PassengerId  Survived  Pclass  \\\n",
              "0            1         0       3   \n",
              "1            2         1       1   \n",
              "2            3         1       3   \n",
              "3            4         1       1   \n",
              "4            5         0       3   \n",
              "\n",
              "                                                Name     Sex   Age  SibSp  \\\n",
              "0                            Braund, Mr. Owen Harris    male  22.0      1   \n",
              "1  Cumings, Mrs. John Bradley (Florence Briggs Th...  female  38.0      1   \n",
              "2                             Heikkinen, Miss. Laina  female  26.0      0   \n",
              "3       Futrelle, Mrs. Jacques Heath (Lily May Peel)  female  35.0      1   \n",
              "4                           Allen, Mr. William Henry    male  35.0      0   \n",
              "\n",
              "   Parch            Ticket     Fare Cabin Embarked  \n",
              "0      0         A/5 21171   7.2500   NaN        S  \n",
              "1      0          PC 17599  71.2833   C85        C  \n",
              "2      0  STON/O2. 3101282   7.9250   NaN        S  \n",
              "3      0            113803  53.1000  C123        S  \n",
              "4      0            373450   8.0500   NaN        S  "
            ]
          },
          "metadata": {
            "tags": []
          },
          "execution_count": 138
        }
      ]
    },
    {
      "metadata": {
        "id": "Bmv1cvwdBpQX",
        "colab_type": "code",
        "colab": {
          "base_uri": "https://localhost:8080/",
          "height": 34
        },
        "outputId": "fd69e4bd-ca85-43e6-ed66-f650673c1207"
      },
      "cell_type": "code",
      "source": [
        "train.shape"
      ],
      "execution_count": 139,
      "outputs": [
        {
          "output_type": "execute_result",
          "data": {
            "text/plain": [
              "(891, 12)"
            ]
          },
          "metadata": {
            "tags": []
          },
          "execution_count": 139
        }
      ]
    },
    {
      "metadata": {
        "id": "yi95MKXyE7jw",
        "colab_type": "code",
        "colab": {
          "base_uri": "https://localhost:8080/",
          "height": 306
        },
        "outputId": "539b64b3-b37c-4852-a2c8-4a6a8441e47a"
      },
      "cell_type": "code",
      "source": [
        "train.info()"
      ],
      "execution_count": 140,
      "outputs": [
        {
          "output_type": "stream",
          "text": [
            "<class 'pandas.core.frame.DataFrame'>\n",
            "RangeIndex: 891 entries, 0 to 890\n",
            "Data columns (total 12 columns):\n",
            "PassengerId    891 non-null int64\n",
            "Survived       891 non-null int64\n",
            "Pclass         891 non-null int64\n",
            "Name           891 non-null object\n",
            "Sex            891 non-null object\n",
            "Age            714 non-null float64\n",
            "SibSp          891 non-null int64\n",
            "Parch          891 non-null int64\n",
            "Ticket         891 non-null object\n",
            "Fare           891 non-null float64\n",
            "Cabin          204 non-null object\n",
            "Embarked       889 non-null object\n",
            "dtypes: float64(2), int64(5), object(5)\n",
            "memory usage: 83.6+ KB\n"
          ],
          "name": "stdout"
        }
      ]
    },
    {
      "metadata": {
        "id": "grw0FY29FKll",
        "colab_type": "code",
        "colab": {}
      },
      "cell_type": "code",
      "source": [
        "#we can see that there are missing/null values in Age, Cabin and Embarked columns. "
      ],
      "execution_count": 0,
      "outputs": []
    },
    {
      "metadata": {
        "id": "FU1gbwQrPvFB",
        "colab_type": "text"
      },
      "cell_type": "markdown",
      "source": [
        "# Exploratory Analysis"
      ]
    },
    {
      "metadata": {
        "id": "9hBp2HKUm1Al",
        "colab_type": "code",
        "colab": {
          "base_uri": "https://localhost:8080/",
          "height": 2022
        },
        "outputId": "a2e9ff10-c11b-418a-8cb8-44458ef94e2a"
      },
      "cell_type": "code",
      "source": [
        "# To get the idea of correlation between feature and predicted variables\n",
        "sns.pairplot(train, hue='Survived')"
      ],
      "execution_count": 200,
      "outputs": [
        {
          "output_type": "execute_result",
          "data": {
            "text/plain": [
              "<seaborn.axisgrid.PairGrid at 0x7efc382a2a20>"
            ]
          },
          "metadata": {
            "tags": []
          },
          "execution_count": 200
        },
        {
          "output_type": "display_data",
          "data": {
            "image/png": "[encoded data removed]",
            "text/plain": [
              "<Figure size 2024.75x1980 with 132 Axes>"
            ]
          },
          "metadata": {
            "tags": []
          }
        }
      ]
    },
    {
      "metadata": {
        "id": "7OzG6L2pGBw5",
        "colab_type": "code",
        "colab": {}
      },
      "cell_type": "code",
      "source": [
        "#Visualize using heatmap"
      ],
      "execution_count": 0,
      "outputs": []
    },
    {
      "metadata": {
        "id": "e9F7SZkaGQ2R",
        "colab_type": "code",
        "colab": {
          "base_uri": "https://localhost:8080/",
          "height": 328
        },
        "outputId": "2c2dc8ad-7737-4cf3-9ca8-b47c9e244a4d"
      },
      "cell_type": "code",
      "source": [
        "sns.heatmap(train.isnull(),yticklabels=False, cbar=False)"
      ],
      "execution_count": 143,
      "outputs": [
        {
          "output_type": "execute_result",
          "data": {
            "text/plain": [
              "<matplotlib.axes._subplots.AxesSubplot at 0x7efc54ecab70>"
            ]
          },
          "metadata": {
            "tags": []
          },
          "execution_count": 143
        },
        {
          "output_type": "display_data",
          "data": {
            "image/png": "[encoded data removed]",
            "text/plain": [
              "<Figure size 432x288 with 1 Axes>"
            ]
          },
          "metadata": {
            "tags": []
          }
        }
      ]
    },
    {
      "metadata": {
        "id": "l4azR6XXHgGv",
        "colab_type": "text"
      },
      "cell_type": "markdown",
      "source": [
        " Note: Every black line in the above figure represents a null value."
      ]
    },
    {
      "metadata": {
        "id": "1ItqyfNHHG00",
        "colab_type": "code",
        "colab": {
          "base_uri": "https://localhost:8080/",
          "height": 350
        },
        "outputId": "309caa78-9188-4384-dac3-379bd97162c3"
      },
      "cell_type": "code",
      "source": [
        "sns.countplot(x='Survived', data=train)"
      ],
      "execution_count": 144,
      "outputs": [
        {
          "output_type": "stream",
          "text": [
            "/usr/local/lib/python3.6/dist-packages/seaborn/categorical.py:1428: FutureWarning: remove_na is deprecated and is a private function. Do not use.\n",
            "  stat_data = remove_na(group_data)\n"
          ],
          "name": "stderr"
        },
        {
          "output_type": "execute_result",
          "data": {
            "text/plain": [
              "<matplotlib.axes._subplots.AxesSubplot at 0x7efc54e8eeb8>"
            ]
          },
          "metadata": {
            "tags": []
          },
          "execution_count": 144
        },
        {
          "output_type": "display_data",
          "data": {
            "image/png": "[encoded data removed]",
            "text/plain": [
              "<Figure size 432x288 with 1 Axes>"
            ]
          },
          "metadata": {
            "tags": []
          }
        }
      ]
    },
    {
      "metadata": {
        "id": "lIkX_L9jHVhu",
        "colab_type": "code",
        "colab": {
          "base_uri": "https://localhost:8080/",
          "height": 350
        },
        "outputId": "bc76c65b-697d-4a0d-fa6d-fc5c0b25ebbf"
      },
      "cell_type": "code",
      "source": [
        "sns.countplot(x='Survived', hue='Sex', data=train)"
      ],
      "execution_count": 145,
      "outputs": [
        {
          "output_type": "stream",
          "text": [
            "/usr/local/lib/python3.6/dist-packages/seaborn/categorical.py:1468: FutureWarning: remove_na is deprecated and is a private function. Do not use.\n",
            "  stat_data = remove_na(group_data[hue_mask])\n"
          ],
          "name": "stderr"
        },
        {
          "output_type": "execute_result",
          "data": {
            "text/plain": [
              "<matplotlib.axes._subplots.AxesSubplot at 0x7efc54e452b0>"
            ]
          },
          "metadata": {
            "tags": []
          },
          "execution_count": 145
        },
        {
          "output_type": "display_data",
          "data": {
            "image/png": "[encoded data removed]",
            "text/plain": [
              "<Figure size 432x288 with 1 Axes>"
            ]
          },
          "metadata": {
            "tags": []
          }
        }
      ]
    },
    {
      "metadata": {
        "id": "lQukVxOuIgOQ",
        "colab_type": "text"
      },
      "cell_type": "markdown",
      "source": [
        "Note: Males were more likely to not survive"
      ]
    },
    {
      "metadata": {
        "id": "5FH-t-SQIaqy",
        "colab_type": "code",
        "colab": {
          "base_uri": "https://localhost:8080/",
          "height": 350
        },
        "outputId": "f63eb6df-2b3c-4547-d2d1-31e9b2915361"
      },
      "cell_type": "code",
      "source": [
        "sns.countplot(x='Survived', hue='Pclass', data=train)"
      ],
      "execution_count": 146,
      "outputs": [
        {
          "output_type": "stream",
          "text": [
            "/usr/local/lib/python3.6/dist-packages/seaborn/categorical.py:1468: FutureWarning: remove_na is deprecated and is a private function. Do not use.\n",
            "  stat_data = remove_na(group_data[hue_mask])\n"
          ],
          "name": "stderr"
        },
        {
          "output_type": "execute_result",
          "data": {
            "text/plain": [
              "<matplotlib.axes._subplots.AxesSubplot at 0x7efc54db22e8>"
            ]
          },
          "metadata": {
            "tags": []
          },
          "execution_count": 146
        },
        {
          "output_type": "display_data",
          "data": {
            "image/png": "[encoded data removed]",
            "text/plain": [
              "<Figure size 432x288 with 1 Axes>"
            ]
          },
          "metadata": {
            "tags": []
          }
        }
      ]
    },
    {
      "metadata": {
        "id": "qFUlmkiaI07q",
        "colab_type": "text"
      },
      "cell_type": "markdown",
      "source": [
        "Note: More people in class 3 (lower class) did not survive"
      ]
    },
    {
      "metadata": {
        "id": "RFpLoVKAI7K9",
        "colab_type": "code",
        "colab": {
          "base_uri": "https://localhost:8080/",
          "height": 350
        },
        "outputId": "72dad2b0-4b68-464d-cd26-a11fe37b4221"
      },
      "cell_type": "code",
      "source": [
        "sns.countplot(x='SibSp', data=train)"
      ],
      "execution_count": 147,
      "outputs": [
        {
          "output_type": "stream",
          "text": [
            "/usr/local/lib/python3.6/dist-packages/seaborn/categorical.py:1428: FutureWarning: remove_na is deprecated and is a private function. Do not use.\n",
            "  stat_data = remove_na(group_data)\n"
          ],
          "name": "stderr"
        },
        {
          "output_type": "execute_result",
          "data": {
            "text/plain": [
              "<matplotlib.axes._subplots.AxesSubplot at 0x7efc54da56a0>"
            ]
          },
          "metadata": {
            "tags": []
          },
          "execution_count": 147
        },
        {
          "output_type": "display_data",
          "data": {
            "image/png": "[encoded data removed]",
            "text/plain": [
              "<Figure size 432x288 with 1 Axes>"
            ]
          },
          "metadata": {
            "tags": []
          }
        }
      ]
    },
    {
      "metadata": {
        "id": "BcIWTPXvKile",
        "colab_type": "text"
      },
      "cell_type": "markdown",
      "source": [
        "Note: Most people on-board did not have either children or a spouse. "
      ]
    },
    {
      "metadata": {
        "id": "UC7BLBxyKIOW",
        "colab_type": "code",
        "colab": {
          "base_uri": "https://localhost:8080/",
          "height": 284
        },
        "outputId": "858ac600-75d6-4edc-e28c-21c5225809b9"
      },
      "cell_type": "code",
      "source": [
        "train['Fare'].hist(bins=40,figsize=(10,4))"
      ],
      "execution_count": 148,
      "outputs": [
        {
          "output_type": "execute_result",
          "data": {
            "text/plain": [
              "<matplotlib.axes._subplots.AxesSubplot at 0x7efc54cdc9e8>"
            ]
          },
          "metadata": {
            "tags": []
          },
          "execution_count": 148
        },
        {
          "output_type": "display_data",
          "data": {
            "image/png": "[encoded data removed]",
            "text/plain": [
              "<Figure size 720x288 with 1 Axes>"
            ]
          },
          "metadata": {
            "tags": []
          }
        }
      ]
    },
    {
      "metadata": {
        "id": "a87zomzfLYgN",
        "colab_type": "text"
      },
      "cell_type": "markdown",
      "source": [
        "Note: It seems like most of the tickets bought were priced below 50. "
      ]
    },
    {
      "metadata": {
        "id": "NOkoAKMyIot8",
        "colab_type": "code",
        "colab": {
          "base_uri": "https://localhost:8080/",
          "height": 347
        },
        "outputId": "f11ab6d0-962c-4801-bd0e-ebb817d355e4"
      },
      "cell_type": "code",
      "source": [
        "sns.distplot(train['Age'].dropna(),kde=False)"
      ],
      "execution_count": 149,
      "outputs": [
        {
          "output_type": "stream",
          "text": [
            "/usr/local/lib/python3.6/dist-packages/matplotlib/axes/_axes.py:6521: MatplotlibDeprecationWarning: \n",
            "The 'normed' kwarg was deprecated in Matplotlib 2.1 and will be removed in 3.1. Use 'density' instead.\n",
            "  alternative=\"'density'\", removal=\"3.1\")\n"
          ],
          "name": "stderr"
        },
        {
          "output_type": "execute_result",
          "data": {
            "text/plain": [
              "<matplotlib.axes._subplots.AxesSubplot at 0x7efc54ca0cf8>"
            ]
          },
          "metadata": {
            "tags": []
          },
          "execution_count": 149
        },
        {
          "output_type": "display_data",
          "data": {
            "image/png": "[encoded data removed]",
            "text/plain": [
              "<Figure size 432x288 with 1 Axes>"
            ]
          },
          "metadata": {
            "tags": []
          }
        }
      ]
    },
    {
      "metadata": {
        "id": "8M6HuG7FPJHD",
        "colab_type": "text"
      },
      "cell_type": "markdown",
      "source": [
        "Note: Age variable seems to follow a bimodal distribution. I have removed null values for now. "
      ]
    },
    {
      "metadata": {
        "id": "SwN6Yxj_P2zi",
        "colab_type": "text"
      },
      "cell_type": "markdown",
      "source": [
        "# Processing Data"
      ]
    },
    {
      "metadata": {
        "id": "QNrN0FLeLeif",
        "colab_type": "code",
        "colab": {}
      },
      "cell_type": "code",
      "source": [
        "# We can try to impute missing values of Age variable using other variables such as Pclass. "
      ],
      "execution_count": 0,
      "outputs": []
    },
    {
      "metadata": {
        "id": "3e12EUIVPevv",
        "colab_type": "code",
        "colab": {
          "base_uri": "https://localhost:8080/",
          "height": 350
        },
        "outputId": "17fdfed5-e034-4c8b-a06d-5871fc376bc1"
      },
      "cell_type": "code",
      "source": [
        "sns.boxplot(x='Pclass', y='Age', data=train)"
      ],
      "execution_count": 151,
      "outputs": [
        {
          "output_type": "stream",
          "text": [
            "/usr/local/lib/python3.6/dist-packages/seaborn/categorical.py:454: FutureWarning: remove_na is deprecated and is a private function. Do not use.\n",
            "  box_data = remove_na(group_data)\n"
          ],
          "name": "stderr"
        },
        {
          "output_type": "execute_result",
          "data": {
            "text/plain": [
              "<matplotlib.axes._subplots.AxesSubplot at 0x7efc54bd9e48>"
            ]
          },
          "metadata": {
            "tags": []
          },
          "execution_count": 151
        },
        {
          "output_type": "display_data",
          "data": {
            "image/png": "[encoded data removed]",
            "text/plain": [
              "<Figure size 432x288 with 1 Axes>"
            ]
          },
          "metadata": {
            "tags": []
          }
        }
      ]
    },
    {
      "metadata": {
        "id": "lJ5LumFfQ24A",
        "colab_type": "text"
      },
      "cell_type": "markdown",
      "source": [
        "Note: Passengers in class 1 and 2 are older than class 3. Therefore, we can use these average age values to impute missing values. "
      ]
    },
    {
      "metadata": {
        "id": "QRmfah8TRTMy",
        "colab_type": "code",
        "colab": {
          "base_uri": "https://localhost:8080/",
          "height": 102
        },
        "outputId": "cd637301-2692-4a4c-9240-986c5e3a5fbf"
      },
      "cell_type": "code",
      "source": [
        "train.groupby(['Pclass'], as_index=False).mean().groupby('Pclass')['Age'].mean()"
      ],
      "execution_count": 152,
      "outputs": [
        {
          "output_type": "execute_result",
          "data": {
            "text/plain": [
              "Pclass\n",
              "1    38.233441\n",
              "2    29.877630\n",
              "3    25.140620\n",
              "Name: Age, dtype: float64"
            ]
          },
          "metadata": {
            "tags": []
          },
          "execution_count": 152
        }
      ]
    },
    {
      "metadata": {
        "id": "3lvtFkh4Ql3n",
        "colab_type": "code",
        "colab": {}
      },
      "cell_type": "code",
      "source": [
        "def impute_age(cols):\n",
        "  Age = cols[0]\n",
        "  Pclass = cols[1]\n",
        "  \n",
        "  if pd.isnull(Age):\n",
        "    \n",
        "    if Pclass == 1:\n",
        "      return 38.233\n",
        "    elif Pclass == 2:\n",
        "      return 29.877\n",
        "    else:\n",
        "      return 25.141\n",
        "    \n",
        "  else:\n",
        "    return Age"
      ],
      "execution_count": 0,
      "outputs": []
    },
    {
      "metadata": {
        "id": "ZUNAbazZSWMC",
        "colab_type": "code",
        "colab": {}
      },
      "cell_type": "code",
      "source": [
        "train['Age'] = train[['Age', 'Pclass']].apply(impute_age, axis=1)"
      ],
      "execution_count": 0,
      "outputs": []
    },
    {
      "metadata": {
        "id": "6HnsytpPTLCb",
        "colab_type": "code",
        "colab": {
          "base_uri": "https://localhost:8080/",
          "height": 328
        },
        "outputId": "3d098635-582d-42c4-f7ac-e68a77b368a7"
      },
      "cell_type": "code",
      "source": [
        "sns.heatmap(train.isnull(),yticklabels=False, cbar=False)"
      ],
      "execution_count": 155,
      "outputs": [
        {
          "output_type": "execute_result",
          "data": {
            "text/plain": [
              "<matplotlib.axes._subplots.AxesSubplot at 0x7efc54b34978>"
            ]
          },
          "metadata": {
            "tags": []
          },
          "execution_count": 155
        },
        {
          "output_type": "display_data",
          "data": {
            "image/png": "[encoded data removed]",
            "text/plain": [
              "<Figure size 432x288 with 1 Axes>"
            ]
          },
          "metadata": {
            "tags": []
          }
        }
      ]
    },
    {
      "metadata": {
        "id": "NODF60rlUwBQ",
        "colab_type": "text"
      },
      "cell_type": "markdown",
      "source": [
        "Note: Now we don't have any missing values in Age column. "
      ]
    },
    {
      "metadata": {
        "id": "mW8ctQQ_TUGr",
        "colab_type": "code",
        "colab": {}
      },
      "cell_type": "code",
      "source": [
        "#Since there are too many missing values in the Cabin column, it's better to ignore that variable in our model. "
      ],
      "execution_count": 0,
      "outputs": []
    },
    {
      "metadata": {
        "id": "V43FbkOLU5u0",
        "colab_type": "code",
        "colab": {}
      },
      "cell_type": "code",
      "source": [
        "train.drop('Cabin', axis=1, inplace=True)"
      ],
      "execution_count": 0,
      "outputs": []
    },
    {
      "metadata": {
        "id": "yX8gkr2SVLiX",
        "colab_type": "code",
        "colab": {
          "base_uri": "https://localhost:8080/",
          "height": 255
        },
        "outputId": "f30a74fc-2763-4e62-9f8d-629c4b41795c"
      },
      "cell_type": "code",
      "source": [
        "train.head()"
      ],
      "execution_count": 158,
      "outputs": [
        {
          "output_type": "execute_result",
          "data": {
            "text/html": [
              "<div>\n",
              "<style scoped>\n",
              "    .dataframe tbody tr th:only-of-type {\n",
              "        vertical-align: middle;\n",
              "    }\n",
              "\n",
              "    .dataframe tbody tr th {\n",
              "        vertical-align: top;\n",
              "    }\n",
              "\n",
              "    .dataframe thead th {\n",
              "        text-align: right;\n",
              "    }\n",
              "</style>\n",
              "<table border=\"1\" class=\"dataframe\">\n",
              "  <thead>\n",
              "    <tr style=\"text-align: right;\">\n",
              "      <th></th>\n",
              "      <th>PassengerId</th>\n",
              "      <th>Survived</th>\n",
              "      <th>Pclass</th>\n",
              "      <th>Name</th>\n",
              "      <th>Sex</th>\n",
              "      <th>Age</th>\n",
              "      <th>SibSp</th>\n",
              "      <th>Parch</th>\n",
              "      <th>Ticket</th>\n",
              "      <th>Fare</th>\n",
              "      <th>Embarked</th>\n",
              "    </tr>\n",
              "  </thead>\n",
              "  <tbody>\n",
              "    <tr>\n",
              "      <th>0</th>\n",
              "      <td>1</td>\n",
              "      <td>0</td>\n",
              "      <td>3</td>\n",
              "      <td>Braund, Mr. Owen Harris</td>\n",
              "      <td>male</td>\n",
              "      <td>22.0</td>\n",
              "      <td>1</td>\n",
              "      <td>0</td>\n",
              "      <td>A/5 21171</td>\n",
              "      <td>7.2500</td>\n",
              "      <td>S</td>\n",
              "    </tr>\n",
              "    <tr>\n",
              "      <th>1</th>\n",
              "      <td>2</td>\n",
              "      <td>1</td>\n",
              "      <td>1</td>\n",
              "      <td>Cumings, Mrs. John Bradley (Florence Briggs Th...</td>\n",
              "      <td>female</td>\n",
              "      <td>38.0</td>\n",
              "      <td>1</td>\n",
              "      <td>0</td>\n",
              "      <td>PC 17599</td>\n",
              "      <td>71.2833</td>\n",
              "      <td>C</td>\n",
              "    </tr>\n",
              "    <tr>\n",
              "      <th>2</th>\n",
              "      <td>3</td>\n",
              "      <td>1</td>\n",
              "      <td>3</td>\n",
              "      <td>Heikkinen, Miss. Laina</td>\n",
              "      <td>female</td>\n",
              "      <td>26.0</td>\n",
              "      <td>0</td>\n",
              "      <td>0</td>\n",
              "      <td>STON/O2. 3101282</td>\n",
              "      <td>7.9250</td>\n",
              "      <td>S</td>\n",
              "    </tr>\n",
              "    <tr>\n",
              "      <th>3</th>\n",
              "      <td>4</td>\n",
              "      <td>1</td>\n",
              "      <td>1</td>\n",
              "      <td>Futrelle, Mrs. Jacques Heath (Lily May Peel)</td>\n",
              "      <td>female</td>\n",
              "      <td>35.0</td>\n",
              "      <td>1</td>\n",
              "      <td>0</td>\n",
              "      <td>113803</td>\n",
              "      <td>53.1000</td>\n",
              "      <td>S</td>\n",
              "    </tr>\n",
              "    <tr>\n",
              "      <th>4</th>\n",
              "      <td>5</td>\n",
              "      <td>0</td>\n",
              "      <td>3</td>\n",
              "      <td>Allen, Mr. William Henry</td>\n",
              "      <td>male</td>\n",
              "      <td>35.0</td>\n",
              "      <td>0</td>\n",
              "      <td>0</td>\n",
              "      <td>373450</td>\n",
              "      <td>8.0500</td>\n",
              "      <td>S</td>\n",
              "    </tr>\n",
              "  </tbody>\n",
              "</table>\n",
              "</div>"
            ],
            "text/plain": [
              "   PassengerId  Survived  Pclass  \\\n",
              "0            1         0       3   \n",
              "1            2         1       1   \n",
              "2            3         1       3   \n",
              "3            4         1       1   \n",
              "4            5         0       3   \n",
              "\n",
              "                                                Name     Sex   Age  SibSp  \\\n",
              "0                            Braund, Mr. Owen Harris    male  22.0      1   \n",
              "1  Cumings, Mrs. John Bradley (Florence Briggs Th...  female  38.0      1   \n",
              "2                             Heikkinen, Miss. Laina  female  26.0      0   \n",
              "3       Futrelle, Mrs. Jacques Heath (Lily May Peel)  female  35.0      1   \n",
              "4                           Allen, Mr. William Henry    male  35.0      0   \n",
              "\n",
              "   Parch            Ticket     Fare Embarked  \n",
              "0      0         A/5 21171   7.2500        S  \n",
              "1      0          PC 17599  71.2833        C  \n",
              "2      0  STON/O2. 3101282   7.9250        S  \n",
              "3      0            113803  53.1000        S  \n",
              "4      0            373450   8.0500        S  "
            ]
          },
          "metadata": {
            "tags": []
          },
          "execution_count": 158
        }
      ]
    },
    {
      "metadata": {
        "id": "bIu1X20NVXgx",
        "colab_type": "code",
        "colab": {}
      },
      "cell_type": "code",
      "source": [
        "# Note: There are still 2 missing values in Embarked column.Since we won't lose a lot of information with just 2 values, I will simply drop those rows. "
      ],
      "execution_count": 0,
      "outputs": []
    },
    {
      "metadata": {
        "id": "zo8yKbiIV9Hr",
        "colab_type": "code",
        "colab": {}
      },
      "cell_type": "code",
      "source": [
        "train.dropna(inplace=True)"
      ],
      "execution_count": 0,
      "outputs": []
    },
    {
      "metadata": {
        "id": "wgYGgayLXV8J",
        "colab_type": "code",
        "colab": {
          "base_uri": "https://localhost:8080/",
          "height": 609
        },
        "outputId": "f188a239-3606-43ce-e3b8-762c1306e314"
      },
      "cell_type": "code",
      "source": [
        "plt.subplots(figsize=(10,10))\n",
        "sns.heatmap(train.isnull(),yticklabels=False, cbar=False)"
      ],
      "execution_count": 161,
      "outputs": [
        {
          "output_type": "execute_result",
          "data": {
            "text/plain": [
              "<matplotlib.axes._subplots.AxesSubplot at 0x7efc54b009e8>"
            ]
          },
          "metadata": {
            "tags": []
          },
          "execution_count": 161
        },
        {
          "output_type": "display_data",
          "data": {
            "image/png": "[encoded data removed]",
            "text/plain": [
              "<Figure size 720x720 with 1 Axes>"
            ]
          },
          "metadata": {
            "tags": []
          }
        }
      ]
    },
    {
      "metadata": {
        "id": "OxhDeyk3XghA",
        "colab_type": "text"
      },
      "cell_type": "markdown",
      "source": [
        "No more missing values."
      ]
    },
    {
      "metadata": {
        "id": "nZWUx5LqXjqw",
        "colab_type": "code",
        "colab": {
          "base_uri": "https://localhost:8080/",
          "height": 289
        },
        "outputId": "163f57a8-b424-4d7f-b4a1-fad87d9b9eec"
      },
      "cell_type": "code",
      "source": [
        "train.info()"
      ],
      "execution_count": 162,
      "outputs": [
        {
          "output_type": "stream",
          "text": [
            "<class 'pandas.core.frame.DataFrame'>\n",
            "Int64Index: 889 entries, 0 to 890\n",
            "Data columns (total 11 columns):\n",
            "PassengerId    889 non-null int64\n",
            "Survived       889 non-null int64\n",
            "Pclass         889 non-null int64\n",
            "Name           889 non-null object\n",
            "Sex            889 non-null object\n",
            "Age            889 non-null float64\n",
            "SibSp          889 non-null int64\n",
            "Parch          889 non-null int64\n",
            "Ticket         889 non-null object\n",
            "Fare           889 non-null float64\n",
            "Embarked       889 non-null object\n",
            "dtypes: float64(2), int64(5), object(4)\n",
            "memory usage: 83.3+ KB\n"
          ],
          "name": "stdout"
        }
      ]
    },
    {
      "metadata": {
        "id": "Cr8gzDsxX21g",
        "colab_type": "code",
        "colab": {}
      },
      "cell_type": "code",
      "source": [
        "# Now I will convert the categorical features (Sex, Embarked, Pclass) to dummy variables. "
      ],
      "execution_count": 0,
      "outputs": []
    },
    {
      "metadata": {
        "id": "CdRq1MtAahQA",
        "colab_type": "code",
        "colab": {
          "base_uri": "https://localhost:8080/",
          "height": 204
        },
        "outputId": "1675d831-325f-47a9-88e3-1fe38a3d4c27"
      },
      "cell_type": "code",
      "source": [
        "pd.get_dummies(train['Sex']).head()"
      ],
      "execution_count": 164,
      "outputs": [
        {
          "output_type": "execute_result",
          "data": {
            "text/html": [
              "<div>\n",
              "<style scoped>\n",
              "    .dataframe tbody tr th:only-of-type {\n",
              "        vertical-align: middle;\n",
              "    }\n",
              "\n",
              "    .dataframe tbody tr th {\n",
              "        vertical-align: top;\n",
              "    }\n",
              "\n",
              "    .dataframe thead th {\n",
              "        text-align: right;\n",
              "    }\n",
              "</style>\n",
              "<table border=\"1\" class=\"dataframe\">\n",
              "  <thead>\n",
              "    <tr style=\"text-align: right;\">\n",
              "      <th></th>\n",
              "      <th>female</th>\n",
              "      <th>male</th>\n",
              "    </tr>\n",
              "  </thead>\n",
              "  <tbody>\n",
              "    <tr>\n",
              "      <th>0</th>\n",
              "      <td>0</td>\n",
              "      <td>1</td>\n",
              "    </tr>\n",
              "    <tr>\n",
              "      <th>1</th>\n",
              "      <td>1</td>\n",
              "      <td>0</td>\n",
              "    </tr>\n",
              "    <tr>\n",
              "      <th>2</th>\n",
              "      <td>1</td>\n",
              "      <td>0</td>\n",
              "    </tr>\n",
              "    <tr>\n",
              "      <th>3</th>\n",
              "      <td>1</td>\n",
              "      <td>0</td>\n",
              "    </tr>\n",
              "    <tr>\n",
              "      <th>4</th>\n",
              "      <td>0</td>\n",
              "      <td>1</td>\n",
              "    </tr>\n",
              "  </tbody>\n",
              "</table>\n",
              "</div>"
            ],
            "text/plain": [
              "   female  male\n",
              "0       0     1\n",
              "1       1     0\n",
              "2       1     0\n",
              "3       1     0\n",
              "4       0     1"
            ]
          },
          "metadata": {
            "tags": []
          },
          "execution_count": 164
        }
      ]
    },
    {
      "metadata": {
        "id": "-ZT6QSdrao6f",
        "colab_type": "code",
        "colab": {}
      },
      "cell_type": "code",
      "source": [
        "# To avoid multicollinearity, I will drop female column"
      ],
      "execution_count": 0,
      "outputs": []
    },
    {
      "metadata": {
        "id": "rg3akxq1a1aD",
        "colab_type": "code",
        "colab": {}
      },
      "cell_type": "code",
      "source": [
        "sex = pd.get_dummies(train['Sex'],drop_first=True)"
      ],
      "execution_count": 0,
      "outputs": []
    },
    {
      "metadata": {
        "id": "38f2bkX1bCau",
        "colab_type": "code",
        "colab": {
          "base_uri": "https://localhost:8080/",
          "height": 204
        },
        "outputId": "2beca333-dbe4-4085-8ed9-f4052a707e4c"
      },
      "cell_type": "code",
      "source": [
        "sex.head()"
      ],
      "execution_count": 167,
      "outputs": [
        {
          "output_type": "execute_result",
          "data": {
            "text/html": [
              "<div>\n",
              "<style scoped>\n",
              "    .dataframe tbody tr th:only-of-type {\n",
              "        vertical-align: middle;\n",
              "    }\n",
              "\n",
              "    .dataframe tbody tr th {\n",
              "        vertical-align: top;\n",
              "    }\n",
              "\n",
              "    .dataframe thead th {\n",
              "        text-align: right;\n",
              "    }\n",
              "</style>\n",
              "<table border=\"1\" class=\"dataframe\">\n",
              "  <thead>\n",
              "    <tr style=\"text-align: right;\">\n",
              "      <th></th>\n",
              "      <th>male</th>\n",
              "    </tr>\n",
              "  </thead>\n",
              "  <tbody>\n",
              "    <tr>\n",
              "      <th>0</th>\n",
              "      <td>1</td>\n",
              "    </tr>\n",
              "    <tr>\n",
              "      <th>1</th>\n",
              "      <td>0</td>\n",
              "    </tr>\n",
              "    <tr>\n",
              "      <th>2</th>\n",
              "      <td>0</td>\n",
              "    </tr>\n",
              "    <tr>\n",
              "      <th>3</th>\n",
              "      <td>0</td>\n",
              "    </tr>\n",
              "    <tr>\n",
              "      <th>4</th>\n",
              "      <td>1</td>\n",
              "    </tr>\n",
              "  </tbody>\n",
              "</table>\n",
              "</div>"
            ],
            "text/plain": [
              "   male\n",
              "0     1\n",
              "1     0\n",
              "2     0\n",
              "3     0\n",
              "4     1"
            ]
          },
          "metadata": {
            "tags": []
          },
          "execution_count": 167
        }
      ]
    },
    {
      "metadata": {
        "id": "T77GLTmTbRhv",
        "colab_type": "code",
        "colab": {}
      },
      "cell_type": "code",
      "source": [
        "# Same thing for embarked column. Dropping C column"
      ],
      "execution_count": 0,
      "outputs": []
    },
    {
      "metadata": {
        "id": "bBA5_aDGbY54",
        "colab_type": "code",
        "colab": {}
      },
      "cell_type": "code",
      "source": [
        "embark = pd.get_dummies(train['Embarked'],drop_first=True)"
      ],
      "execution_count": 0,
      "outputs": []
    },
    {
      "metadata": {
        "id": "o1XOLeGAbidp",
        "colab_type": "code",
        "colab": {
          "base_uri": "https://localhost:8080/",
          "height": 204
        },
        "outputId": "7e11c652-3772-4975-ca80-f4294f7f8e5d"
      },
      "cell_type": "code",
      "source": [
        "embark.head()"
      ],
      "execution_count": 170,
      "outputs": [
        {
          "output_type": "execute_result",
          "data": {
            "text/html": [
              "<div>\n",
              "<style scoped>\n",
              "    .dataframe tbody tr th:only-of-type {\n",
              "        vertical-align: middle;\n",
              "    }\n",
              "\n",
              "    .dataframe tbody tr th {\n",
              "        vertical-align: top;\n",
              "    }\n",
              "\n",
              "    .dataframe thead th {\n",
              "        text-align: right;\n",
              "    }\n",
              "</style>\n",
              "<table border=\"1\" class=\"dataframe\">\n",
              "  <thead>\n",
              "    <tr style=\"text-align: right;\">\n",
              "      <th></th>\n",
              "      <th>Q</th>\n",
              "      <th>S</th>\n",
              "    </tr>\n",
              "  </thead>\n",
              "  <tbody>\n",
              "    <tr>\n",
              "      <th>0</th>\n",
              "      <td>0</td>\n",
              "      <td>1</td>\n",
              "    </tr>\n",
              "    <tr>\n",
              "      <th>1</th>\n",
              "      <td>0</td>\n",
              "      <td>0</td>\n",
              "    </tr>\n",
              "    <tr>\n",
              "      <th>2</th>\n",
              "      <td>0</td>\n",
              "      <td>1</td>\n",
              "    </tr>\n",
              "    <tr>\n",
              "      <th>3</th>\n",
              "      <td>0</td>\n",
              "      <td>1</td>\n",
              "    </tr>\n",
              "    <tr>\n",
              "      <th>4</th>\n",
              "      <td>0</td>\n",
              "      <td>1</td>\n",
              "    </tr>\n",
              "  </tbody>\n",
              "</table>\n",
              "</div>"
            ],
            "text/plain": [
              "   Q  S\n",
              "0  0  1\n",
              "1  0  0\n",
              "2  0  1\n",
              "3  0  1\n",
              "4  0  1"
            ]
          },
          "metadata": {
            "tags": []
          },
          "execution_count": 170
        }
      ]
    },
    {
      "metadata": {
        "id": "mB9yGPO0bu11",
        "colab_type": "code",
        "colab": {
          "base_uri": "https://localhost:8080/",
          "height": 34
        },
        "outputId": "a4bc3ccc-b43a-4fdb-d093-13b0575746c6"
      },
      "cell_type": "code",
      "source": [
        "print(train['Embarked'].unique())"
      ],
      "execution_count": 171,
      "outputs": [
        {
          "output_type": "stream",
          "text": [
            "['S' 'C' 'Q']\n"
          ],
          "name": "stdout"
        }
      ]
    },
    {
      "metadata": {
        "id": "-VPYAOt8cHL8",
        "colab_type": "code",
        "colab": {}
      },
      "cell_type": "code",
      "source": [
        "#And finally I do the same for Pclass since it is still an ordinal variable"
      ],
      "execution_count": 0,
      "outputs": []
    },
    {
      "metadata": {
        "id": "4zgnRziIeKgv",
        "colab_type": "code",
        "colab": {}
      },
      "cell_type": "code",
      "source": [
        "pclass = pd.get_dummies(train['Pclass'],drop_first=True)"
      ],
      "execution_count": 0,
      "outputs": []
    },
    {
      "metadata": {
        "id": "4xvuq41HePX7",
        "colab_type": "code",
        "colab": {
          "base_uri": "https://localhost:8080/",
          "height": 204
        },
        "outputId": "0467578b-705d-4e48-a4dc-78f264446365"
      },
      "cell_type": "code",
      "source": [
        "pclass.head()"
      ],
      "execution_count": 174,
      "outputs": [
        {
          "output_type": "execute_result",
          "data": {
            "text/html": [
              "<div>\n",
              "<style scoped>\n",
              "    .dataframe tbody tr th:only-of-type {\n",
              "        vertical-align: middle;\n",
              "    }\n",
              "\n",
              "    .dataframe tbody tr th {\n",
              "        vertical-align: top;\n",
              "    }\n",
              "\n",
              "    .dataframe thead th {\n",
              "        text-align: right;\n",
              "    }\n",
              "</style>\n",
              "<table border=\"1\" class=\"dataframe\">\n",
              "  <thead>\n",
              "    <tr style=\"text-align: right;\">\n",
              "      <th></th>\n",
              "      <th>2</th>\n",
              "      <th>3</th>\n",
              "    </tr>\n",
              "  </thead>\n",
              "  <tbody>\n",
              "    <tr>\n",
              "      <th>0</th>\n",
              "      <td>0</td>\n",
              "      <td>1</td>\n",
              "    </tr>\n",
              "    <tr>\n",
              "      <th>1</th>\n",
              "      <td>0</td>\n",
              "      <td>0</td>\n",
              "    </tr>\n",
              "    <tr>\n",
              "      <th>2</th>\n",
              "      <td>0</td>\n",
              "      <td>1</td>\n",
              "    </tr>\n",
              "    <tr>\n",
              "      <th>3</th>\n",
              "      <td>0</td>\n",
              "      <td>0</td>\n",
              "    </tr>\n",
              "    <tr>\n",
              "      <th>4</th>\n",
              "      <td>0</td>\n",
              "      <td>1</td>\n",
              "    </tr>\n",
              "  </tbody>\n",
              "</table>\n",
              "</div>"
            ],
            "text/plain": [
              "   2  3\n",
              "0  0  1\n",
              "1  0  0\n",
              "2  0  1\n",
              "3  0  0\n",
              "4  0  1"
            ]
          },
          "metadata": {
            "tags": []
          },
          "execution_count": 174
        }
      ]
    },
    {
      "metadata": {
        "id": "rLTYyF2JeQ2t",
        "colab_type": "code",
        "colab": {
          "base_uri": "https://localhost:8080/",
          "height": 34
        },
        "outputId": "3151785c-c69b-4c38-ba78-52f8d82af846"
      },
      "cell_type": "code",
      "source": [
        "print(train['Pclass'].unique())"
      ],
      "execution_count": 175,
      "outputs": [
        {
          "output_type": "stream",
          "text": [
            "[3 1 2]\n"
          ],
          "name": "stdout"
        }
      ]
    },
    {
      "metadata": {
        "id": "KJCtYy39eWMs",
        "colab_type": "code",
        "colab": {}
      },
      "cell_type": "code",
      "source": [
        "# Now that I have converted mmy categorical and ordinal variables to dummy variables, I can concatenate them in my train dataset. "
      ],
      "execution_count": 0,
      "outputs": []
    },
    {
      "metadata": {
        "id": "tHQ1Re1seo95",
        "colab_type": "code",
        "colab": {}
      },
      "cell_type": "code",
      "source": [
        "train = pd.concat([train, sex, embark, pclass], axis=1)"
      ],
      "execution_count": 0,
      "outputs": []
    },
    {
      "metadata": {
        "id": "J79QeG5Ye2-D",
        "colab_type": "code",
        "colab": {
          "base_uri": "https://localhost:8080/",
          "height": 145
        },
        "outputId": "ffb7a92b-c226-4251-9c47-d3894cf63e33"
      },
      "cell_type": "code",
      "source": [
        "train.head(2)"
      ],
      "execution_count": 178,
      "outputs": [
        {
          "output_type": "execute_result",
          "data": {
            "text/html": [
              "<div>\n",
              "<style scoped>\n",
              "    .dataframe tbody tr th:only-of-type {\n",
              "        vertical-align: middle;\n",
              "    }\n",
              "\n",
              "    .dataframe tbody tr th {\n",
              "        vertical-align: top;\n",
              "    }\n",
              "\n",
              "    .dataframe thead th {\n",
              "        text-align: right;\n",
              "    }\n",
              "</style>\n",
              "<table border=\"1\" class=\"dataframe\">\n",
              "  <thead>\n",
              "    <tr style=\"text-align: right;\">\n",
              "      <th></th>\n",
              "      <th>PassengerId</th>\n",
              "      <th>Survived</th>\n",
              "      <th>Pclass</th>\n",
              "      <th>Name</th>\n",
              "      <th>Sex</th>\n",
              "      <th>Age</th>\n",
              "      <th>SibSp</th>\n",
              "      <th>Parch</th>\n",
              "      <th>Ticket</th>\n",
              "      <th>Fare</th>\n",
              "      <th>Embarked</th>\n",
              "      <th>male</th>\n",
              "      <th>Q</th>\n",
              "      <th>S</th>\n",
              "      <th>2</th>\n",
              "      <th>3</th>\n",
              "    </tr>\n",
              "  </thead>\n",
              "  <tbody>\n",
              "    <tr>\n",
              "      <th>0</th>\n",
              "      <td>1</td>\n",
              "      <td>0</td>\n",
              "      <td>3</td>\n",
              "      <td>Braund, Mr. Owen Harris</td>\n",
              "      <td>male</td>\n",
              "      <td>22.0</td>\n",
              "      <td>1</td>\n",
              "      <td>0</td>\n",
              "      <td>A/5 21171</td>\n",
              "      <td>7.2500</td>\n",
              "      <td>S</td>\n",
              "      <td>1</td>\n",
              "      <td>0</td>\n",
              "      <td>1</td>\n",
              "      <td>0</td>\n",
              "      <td>1</td>\n",
              "    </tr>\n",
              "    <tr>\n",
              "      <th>1</th>\n",
              "      <td>2</td>\n",
              "      <td>1</td>\n",
              "      <td>1</td>\n",
              "      <td>Cumings, Mrs. John Bradley (Florence Briggs Th...</td>\n",
              "      <td>female</td>\n",
              "      <td>38.0</td>\n",
              "      <td>1</td>\n",
              "      <td>0</td>\n",
              "      <td>PC 17599</td>\n",
              "      <td>71.2833</td>\n",
              "      <td>C</td>\n",
              "      <td>0</td>\n",
              "      <td>0</td>\n",
              "      <td>0</td>\n",
              "      <td>0</td>\n",
              "      <td>0</td>\n",
              "    </tr>\n",
              "  </tbody>\n",
              "</table>\n",
              "</div>"
            ],
            "text/plain": [
              "   PassengerId  Survived  Pclass  \\\n",
              "0            1         0       3   \n",
              "1            2         1       1   \n",
              "\n",
              "                                                Name     Sex   Age  SibSp  \\\n",
              "0                            Braund, Mr. Owen Harris    male  22.0      1   \n",
              "1  Cumings, Mrs. John Bradley (Florence Briggs Th...  female  38.0      1   \n",
              "\n",
              "   Parch     Ticket     Fare Embarked  male  Q  S  2  3  \n",
              "0      0  A/5 21171   7.2500        S     1  0  1  0  1  \n",
              "1      0   PC 17599  71.2833        C     0  0  0  0  0  "
            ]
          },
          "metadata": {
            "tags": []
          },
          "execution_count": 178
        }
      ]
    },
    {
      "metadata": {
        "id": "7VwsGM3Me4le",
        "colab_type": "code",
        "colab": {}
      },
      "cell_type": "code",
      "source": [
        "# Now I have 5 new columns in the end of my dataset. "
      ],
      "execution_count": 0,
      "outputs": []
    },
    {
      "metadata": {
        "id": "bUvim8cre_Br",
        "colab_type": "code",
        "colab": {}
      },
      "cell_type": "code",
      "source": [
        "# I will drop the columns that I won't be using in my model. "
      ],
      "execution_count": 0,
      "outputs": []
    },
    {
      "metadata": {
        "id": "WpwmDOJ8fK63",
        "colab_type": "code",
        "colab": {}
      },
      "cell_type": "code",
      "source": [
        "train.drop(['Sex', 'Embarked', 'Name', 'Ticket'], axis=1, inplace=True)"
      ],
      "execution_count": 0,
      "outputs": []
    },
    {
      "metadata": {
        "id": "B2ScBx12fkWy",
        "colab_type": "code",
        "colab": {
          "base_uri": "https://localhost:8080/",
          "height": 204
        },
        "outputId": "9c4b83b1-7412-49bf-867c-c17e0014d4ec"
      },
      "cell_type": "code",
      "source": [
        "train.head()"
      ],
      "execution_count": 182,
      "outputs": [
        {
          "output_type": "execute_result",
          "data": {
            "text/html": [
              "<div>\n",
              "<style scoped>\n",
              "    .dataframe tbody tr th:only-of-type {\n",
              "        vertical-align: middle;\n",
              "    }\n",
              "\n",
              "    .dataframe tbody tr th {\n",
              "        vertical-align: top;\n",
              "    }\n",
              "\n",
              "    .dataframe thead th {\n",
              "        text-align: right;\n",
              "    }\n",
              "</style>\n",
              "<table border=\"1\" class=\"dataframe\">\n",
              "  <thead>\n",
              "    <tr style=\"text-align: right;\">\n",
              "      <th></th>\n",
              "      <th>PassengerId</th>\n",
              "      <th>Survived</th>\n",
              "      <th>Pclass</th>\n",
              "      <th>Age</th>\n",
              "      <th>SibSp</th>\n",
              "      <th>Parch</th>\n",
              "      <th>Fare</th>\n",
              "      <th>male</th>\n",
              "      <th>Q</th>\n",
              "      <th>S</th>\n",
              "      <th>2</th>\n",
              "      <th>3</th>\n",
              "    </tr>\n",
              "  </thead>\n",
              "  <tbody>\n",
              "    <tr>\n",
              "      <th>0</th>\n",
              "      <td>1</td>\n",
              "      <td>0</td>\n",
              "      <td>3</td>\n",
              "      <td>22.0</td>\n",
              "      <td>1</td>\n",
              "      <td>0</td>\n",
              "      <td>7.2500</td>\n",
              "      <td>1</td>\n",
              "      <td>0</td>\n",
              "      <td>1</td>\n",
              "      <td>0</td>\n",
              "      <td>1</td>\n",
              "    </tr>\n",
              "    <tr>\n",
              "      <th>1</th>\n",
              "      <td>2</td>\n",
              "      <td>1</td>\n",
              "      <td>1</td>\n",
              "      <td>38.0</td>\n",
              "      <td>1</td>\n",
              "      <td>0</td>\n",
              "      <td>71.2833</td>\n",
              "      <td>0</td>\n",
              "      <td>0</td>\n",
              "      <td>0</td>\n",
              "      <td>0</td>\n",
              "      <td>0</td>\n",
              "    </tr>\n",
              "    <tr>\n",
              "      <th>2</th>\n",
              "      <td>3</td>\n",
              "      <td>1</td>\n",
              "      <td>3</td>\n",
              "      <td>26.0</td>\n",
              "      <td>0</td>\n",
              "      <td>0</td>\n",
              "      <td>7.9250</td>\n",
              "      <td>0</td>\n",
              "      <td>0</td>\n",
              "      <td>1</td>\n",
              "      <td>0</td>\n",
              "      <td>1</td>\n",
              "    </tr>\n",
              "    <tr>\n",
              "      <th>3</th>\n",
              "      <td>4</td>\n",
              "      <td>1</td>\n",
              "      <td>1</td>\n",
              "      <td>35.0</td>\n",
              "      <td>1</td>\n",
              "      <td>0</td>\n",
              "      <td>53.1000</td>\n",
              "      <td>0</td>\n",
              "      <td>0</td>\n",
              "      <td>1</td>\n",
              "      <td>0</td>\n",
              "      <td>0</td>\n",
              "    </tr>\n",
              "    <tr>\n",
              "      <th>4</th>\n",
              "      <td>5</td>\n",
              "      <td>0</td>\n",
              "      <td>3</td>\n",
              "      <td>35.0</td>\n",
              "      <td>0</td>\n",
              "      <td>0</td>\n",
              "      <td>8.0500</td>\n",
              "      <td>1</td>\n",
              "      <td>0</td>\n",
              "      <td>1</td>\n",
              "      <td>0</td>\n",
              "      <td>1</td>\n",
              "    </tr>\n",
              "  </tbody>\n",
              "</table>\n",
              "</div>"
            ],
            "text/plain": [
              "   PassengerId  Survived  Pclass   Age  SibSp  Parch     Fare  male  Q  S  2  \\\n",
              "0            1         0       3  22.0      1      0   7.2500     1  0  1  0   \n",
              "1            2         1       1  38.0      1      0  71.2833     0  0  0  0   \n",
              "2            3         1       3  26.0      0      0   7.9250     0  0  1  0   \n",
              "3            4         1       1  35.0      1      0  53.1000     0  0  1  0   \n",
              "4            5         0       3  35.0      0      0   8.0500     1  0  1  0   \n",
              "\n",
              "   3  \n",
              "0  1  \n",
              "1  0  \n",
              "2  1  \n",
              "3  0  \n",
              "4  1  "
            ]
          },
          "metadata": {
            "tags": []
          },
          "execution_count": 182
        }
      ]
    },
    {
      "metadata": {
        "id": "pDcA2_n0fl8s",
        "colab_type": "code",
        "colab": {}
      },
      "cell_type": "code",
      "source": [
        "train.drop('PassengerId', axis=1, inplace=True)"
      ],
      "execution_count": 0,
      "outputs": []
    },
    {
      "metadata": {
        "id": "4-S7e1gZgLtk",
        "colab_type": "code",
        "colab": {
          "base_uri": "https://localhost:8080/",
          "height": 204
        },
        "outputId": "83bec85a-deb6-49a9-c9b9-c8fe0e9eed23"
      },
      "cell_type": "code",
      "source": [
        "train.head()"
      ],
      "execution_count": 184,
      "outputs": [
        {
          "output_type": "execute_result",
          "data": {
            "text/html": [
              "<div>\n",
              "<style scoped>\n",
              "    .dataframe tbody tr th:only-of-type {\n",
              "        vertical-align: middle;\n",
              "    }\n",
              "\n",
              "    .dataframe tbody tr th {\n",
              "        vertical-align: top;\n",
              "    }\n",
              "\n",
              "    .dataframe thead th {\n",
              "        text-align: right;\n",
              "    }\n",
              "</style>\n",
              "<table border=\"1\" class=\"dataframe\">\n",
              "  <thead>\n",
              "    <tr style=\"text-align: right;\">\n",
              "      <th></th>\n",
              "      <th>Survived</th>\n",
              "      <th>Pclass</th>\n",
              "      <th>Age</th>\n",
              "      <th>SibSp</th>\n",
              "      <th>Parch</th>\n",
              "      <th>Fare</th>\n",
              "      <th>male</th>\n",
              "      <th>Q</th>\n",
              "      <th>S</th>\n",
              "      <th>2</th>\n",
              "      <th>3</th>\n",
              "    </tr>\n",
              "  </thead>\n",
              "  <tbody>\n",
              "    <tr>\n",
              "      <th>0</th>\n",
              "      <td>0</td>\n",
              "      <td>3</td>\n",
              "      <td>22.0</td>\n",
              "      <td>1</td>\n",
              "      <td>0</td>\n",
              "      <td>7.2500</td>\n",
              "      <td>1</td>\n",
              "      <td>0</td>\n",
              "      <td>1</td>\n",
              "      <td>0</td>\n",
              "      <td>1</td>\n",
              "    </tr>\n",
              "    <tr>\n",
              "      <th>1</th>\n",
              "      <td>1</td>\n",
              "      <td>1</td>\n",
              "      <td>38.0</td>\n",
              "      <td>1</td>\n",
              "      <td>0</td>\n",
              "      <td>71.2833</td>\n",
              "      <td>0</td>\n",
              "      <td>0</td>\n",
              "      <td>0</td>\n",
              "      <td>0</td>\n",
              "      <td>0</td>\n",
              "    </tr>\n",
              "    <tr>\n",
              "      <th>2</th>\n",
              "      <td>1</td>\n",
              "      <td>3</td>\n",
              "      <td>26.0</td>\n",
              "      <td>0</td>\n",
              "      <td>0</td>\n",
              "      <td>7.9250</td>\n",
              "      <td>0</td>\n",
              "      <td>0</td>\n",
              "      <td>1</td>\n",
              "      <td>0</td>\n",
              "      <td>1</td>\n",
              "    </tr>\n",
              "    <tr>\n",
              "      <th>3</th>\n",
              "      <td>1</td>\n",
              "      <td>1</td>\n",
              "      <td>35.0</td>\n",
              "      <td>1</td>\n",
              "      <td>0</td>\n",
              "      <td>53.1000</td>\n",
              "      <td>0</td>\n",
              "      <td>0</td>\n",
              "      <td>1</td>\n",
              "      <td>0</td>\n",
              "      <td>0</td>\n",
              "    </tr>\n",
              "    <tr>\n",
              "      <th>4</th>\n",
              "      <td>0</td>\n",
              "      <td>3</td>\n",
              "      <td>35.0</td>\n",
              "      <td>0</td>\n",
              "      <td>0</td>\n",
              "      <td>8.0500</td>\n",
              "      <td>1</td>\n",
              "      <td>0</td>\n",
              "      <td>1</td>\n",
              "      <td>0</td>\n",
              "      <td>1</td>\n",
              "    </tr>\n",
              "  </tbody>\n",
              "</table>\n",
              "</div>"
            ],
            "text/plain": [
              "   Survived  Pclass   Age  SibSp  Parch     Fare  male  Q  S  2  3\n",
              "0         0       3  22.0      1      0   7.2500     1  0  1  0  1\n",
              "1         1       1  38.0      1      0  71.2833     0  0  0  0  0\n",
              "2         1       3  26.0      0      0   7.9250     0  0  1  0  1\n",
              "3         1       1  35.0      1      0  53.1000     0  0  1  0  0\n",
              "4         0       3  35.0      0      0   8.0500     1  0  1  0  1"
            ]
          },
          "metadata": {
            "tags": []
          },
          "execution_count": 184
        }
      ]
    },
    {
      "metadata": {
        "id": "5XkOVX8NiAHP",
        "colab_type": "text"
      },
      "cell_type": "markdown",
      "source": [
        "# Defining the model in Keras"
      ]
    },
    {
      "metadata": {
        "id": "M0xesVaaiImc",
        "colab_type": "code",
        "colab": {
          "base_uri": "https://localhost:8080/",
          "height": 34
        },
        "outputId": "6075503f-24b6-4ef3-ca13-9b896211dad8"
      },
      "cell_type": "code",
      "source": [
        "X = train.drop(['Survived'], axis=1).values\n",
        "X.shape"
      ],
      "execution_count": 185,
      "outputs": [
        {
          "output_type": "execute_result",
          "data": {
            "text/plain": [
              "(889, 10)"
            ]
          },
          "metadata": {
            "tags": []
          },
          "execution_count": 185
        }
      ]
    },
    {
      "metadata": {
        "id": "TMI1vsnNiUUc",
        "colab_type": "code",
        "colab": {
          "base_uri": "https://localhost:8080/",
          "height": 34
        },
        "outputId": "6db11648-0d7b-408d-ad16-60f21f7a0f7b"
      },
      "cell_type": "code",
      "source": [
        "y = train[0:889]['Survived'].values\n",
        "y.shape"
      ],
      "execution_count": 187,
      "outputs": [
        {
          "output_type": "execute_result",
          "data": {
            "text/plain": [
              "(889,)"
            ]
          },
          "metadata": {
            "tags": []
          },
          "execution_count": 187
        }
      ]
    },
    {
      "metadata": {
        "id": "2ifmzhZOil0g",
        "colab_type": "code",
        "colab": {}
      },
      "cell_type": "code",
      "source": [
        "from tensorflow.keras.models import Sequential\n",
        "from tensorflow.keras.layers import Dense \n",
        "from tensorflow.train import AdamOptimizer"
      ],
      "execution_count": 0,
      "outputs": []
    },
    {
      "metadata": {
        "id": "2atQUqNcitoG",
        "colab_type": "code",
        "colab": {}
      },
      "cell_type": "code",
      "source": [
        "#Initialising the NN\n",
        "model = Sequential()"
      ],
      "execution_count": 0,
      "outputs": []
    },
    {
      "metadata": {
        "id": "qS1FOVY9jGvP",
        "colab_type": "code",
        "colab": {
          "base_uri": "https://localhost:8080/",
          "height": 88
        },
        "outputId": "0d7b8674-57df-497d-de47-d0178de1ab52"
      },
      "cell_type": "code",
      "source": [
        "model.add(Dense(10, input_shape=(10,), activation='relu'))\n",
        "model.add(Dense(10, activation = 'relu'))\n",
        "model.add(Dense(5, activation = 'relu'))\n",
        "model.add(Dense(1, activation = 'sigmoid'))\n",
        "\n",
        "model.compile(optimizer=AdamOptimizer(0.01), loss='binary_crossentropy', metrics=['accuracy'])"
      ],
      "execution_count": 194,
      "outputs": [
        {
          "output_type": "stream",
          "text": [
            "WARNING:tensorflow:From /usr/local/lib/python3.6/dist-packages/tensorflow/python/ops/resource_variable_ops.py:435: colocate_with (from tensorflow.python.framework.ops) is deprecated and will be removed in a future version.\n",
            "Instructions for updating:\n",
            "Colocations handled automatically by placer.\n"
          ],
          "name": "stdout"
        }
      ]
    },
    {
      "metadata": {
        "id": "NRyickNUlYel",
        "colab_type": "code",
        "colab": {
          "base_uri": "https://localhost:8080/",
          "height": 6905
        },
        "outputId": "a09e7c54-2aee-471f-8693-0c8a634e21c2"
      },
      "cell_type": "code",
      "source": [
        "# Train the NN\n",
        "h = model.fit(X,y, epochs=200, validation_split=0.33, batch_size=32)"
      ],
      "execution_count": 195,
      "outputs": [
        {
          "output_type": "stream",
          "text": [
            "Train on 595 samples, validate on 294 samples\n",
            "WARNING:tensorflow:From /usr/local/lib/python3.6/dist-packages/tensorflow/python/ops/math_ops.py:3066: to_int32 (from tensorflow.python.ops.math_ops) is deprecated and will be removed in a future version.\n",
            "Instructions for updating:\n",
            "Use tf.cast instead.\n",
            "Epoch 1/200\n",
            "595/595 [==============================] - 0s 751us/sample - loss: 0.8778 - acc: 0.6050 - val_loss: 0.6246 - val_acc: 0.7143\n",
            "Epoch 2/200\n",
            "595/595 [==============================] - 0s 69us/sample - loss: 0.7056 - acc: 0.6874 - val_loss: 0.6531 - val_acc: 0.6667\n",
            "Epoch 3/200\n",
            "595/595 [==============================] - 0s 68us/sample - loss: 0.6625 - acc: 0.6403 - val_loss: 0.6042 - val_acc: 0.7211\n",
            "Epoch 4/200\n",
            "595/595 [==============================] - 0s 65us/sample - loss: 0.6446 - acc: 0.6639 - val_loss: 0.5892 - val_acc: 0.7075\n",
            "Epoch 5/200\n",
            "595/595 [==============================] - 0s 66us/sample - loss: 0.6349 - acc: 0.6689 - val_loss: 0.5788 - val_acc: 0.7075\n",
            "Epoch 6/200\n",
            "595/595 [==============================] - 0s 69us/sample - loss: 0.6278 - acc: 0.6639 - val_loss: 0.5710 - val_acc: 0.7041\n",
            "Epoch 7/200\n",
            "595/595 [==============================] - 0s 66us/sample - loss: 0.6196 - acc: 0.6756 - val_loss: 0.5561 - val_acc: 0.7211\n",
            "Epoch 8/200\n",
            "595/595 [==============================] - 0s 66us/sample - loss: 0.6124 - acc: 0.6706 - val_loss: 0.5444 - val_acc: 0.7245\n",
            "Epoch 9/200\n",
            "595/595 [==============================] - 0s 70us/sample - loss: 0.6088 - acc: 0.6689 - val_loss: 0.5324 - val_acc: 0.7313\n",
            "Epoch 10/200\n",
            "595/595 [==============================] - 0s 79us/sample - loss: 0.5880 - acc: 0.6790 - val_loss: 0.5312 - val_acc: 0.7449\n",
            "Epoch 11/200\n",
            "595/595 [==============================] - 0s 79us/sample - loss: 0.5764 - acc: 0.6941 - val_loss: 0.5111 - val_acc: 0.7551\n",
            "Epoch 12/200\n",
            "595/595 [==============================] - 0s 76us/sample - loss: 0.5766 - acc: 0.7042 - val_loss: 0.5066 - val_acc: 0.7551\n",
            "Epoch 13/200\n",
            "595/595 [==============================] - 0s 78us/sample - loss: 0.5548 - acc: 0.7244 - val_loss: 0.4873 - val_acc: 0.7517\n",
            "Epoch 14/200\n",
            "595/595 [==============================] - 0s 71us/sample - loss: 0.5353 - acc: 0.7647 - val_loss: 0.5066 - val_acc: 0.7721\n",
            "Epoch 15/200\n",
            "595/595 [==============================] - 0s 71us/sample - loss: 0.5209 - acc: 0.7697 - val_loss: 0.4789 - val_acc: 0.7721\n",
            "Epoch 16/200\n",
            "595/595 [==============================] - 0s 76us/sample - loss: 0.5109 - acc: 0.7597 - val_loss: 0.4984 - val_acc: 0.7823\n",
            "Epoch 17/200\n",
            "595/595 [==============================] - 0s 79us/sample - loss: 0.5390 - acc: 0.7681 - val_loss: 0.4879 - val_acc: 0.7891\n",
            "Epoch 18/200\n",
            "595/595 [==============================] - 0s 64us/sample - loss: 0.5106 - acc: 0.7714 - val_loss: 0.4836 - val_acc: 0.7789\n",
            "Epoch 19/200\n",
            "595/595 [==============================] - 0s 73us/sample - loss: 0.4992 - acc: 0.7866 - val_loss: 0.4855 - val_acc: 0.7857\n",
            "Epoch 20/200\n",
            "595/595 [==============================] - 0s 76us/sample - loss: 0.4856 - acc: 0.7849 - val_loss: 0.4992 - val_acc: 0.7891\n",
            "Epoch 21/200\n",
            "595/595 [==============================] - 0s 74us/sample - loss: 0.5499 - acc: 0.7748 - val_loss: 0.5201 - val_acc: 0.7789\n",
            "Epoch 22/200\n",
            "595/595 [==============================] - 0s 78us/sample - loss: 0.4929 - acc: 0.7782 - val_loss: 0.4644 - val_acc: 0.7857\n",
            "Epoch 23/200\n",
            "595/595 [==============================] - 0s 75us/sample - loss: 0.4860 - acc: 0.7748 - val_loss: 0.4916 - val_acc: 0.7789\n",
            "Epoch 24/200\n",
            "595/595 [==============================] - 0s 71us/sample - loss: 0.4699 - acc: 0.7950 - val_loss: 0.4790 - val_acc: 0.7857\n",
            "Epoch 25/200\n",
            "595/595 [==============================] - 0s 80us/sample - loss: 0.4723 - acc: 0.7933 - val_loss: 0.4780 - val_acc: 0.7857\n",
            "Epoch 26/200\n",
            "595/595 [==============================] - 0s 71us/sample - loss: 0.4679 - acc: 0.8000 - val_loss: 0.4804 - val_acc: 0.7925\n",
            "Epoch 27/200\n",
            "595/595 [==============================] - 0s 71us/sample - loss: 0.4715 - acc: 0.7882 - val_loss: 0.4625 - val_acc: 0.7891\n",
            "Epoch 28/200\n",
            "595/595 [==============================] - 0s 70us/sample - loss: 0.4533 - acc: 0.8017 - val_loss: 0.4690 - val_acc: 0.7993\n",
            "Epoch 29/200\n",
            "595/595 [==============================] - 0s 72us/sample - loss: 0.4560 - acc: 0.7966 - val_loss: 0.4528 - val_acc: 0.7959\n",
            "Epoch 30/200\n",
            "595/595 [==============================] - 0s 67us/sample - loss: 0.4528 - acc: 0.7882 - val_loss: 0.4569 - val_acc: 0.8027\n",
            "Epoch 31/200\n",
            "595/595 [==============================] - 0s 69us/sample - loss: 0.4506 - acc: 0.7966 - val_loss: 0.4443 - val_acc: 0.8027\n",
            "Epoch 32/200\n",
            "595/595 [==============================] - 0s 68us/sample - loss: 0.4520 - acc: 0.7916 - val_loss: 0.4554 - val_acc: 0.7925\n",
            "Epoch 33/200\n",
            "595/595 [==============================] - 0s 72us/sample - loss: 0.4493 - acc: 0.8000 - val_loss: 0.4506 - val_acc: 0.8061\n",
            "Epoch 34/200\n",
            "595/595 [==============================] - 0s 99us/sample - loss: 0.4424 - acc: 0.8034 - val_loss: 0.4389 - val_acc: 0.7959\n",
            "Epoch 35/200\n",
            "595/595 [==============================] - 0s 81us/sample - loss: 0.4373 - acc: 0.8017 - val_loss: 0.4429 - val_acc: 0.7993\n",
            "Epoch 36/200\n",
            "595/595 [==============================] - 0s 81us/sample - loss: 0.4396 - acc: 0.8017 - val_loss: 0.4420 - val_acc: 0.8061\n",
            "Epoch 37/200\n",
            "595/595 [==============================] - 0s 78us/sample - loss: 0.4484 - acc: 0.7950 - val_loss: 0.4304 - val_acc: 0.8027\n",
            "Epoch 38/200\n",
            "595/595 [==============================] - 0s 72us/sample - loss: 0.4484 - acc: 0.8084 - val_loss: 0.4487 - val_acc: 0.7993\n",
            "Epoch 39/200\n",
            "595/595 [==============================] - 0s 75us/sample - loss: 0.4439 - acc: 0.7950 - val_loss: 0.4228 - val_acc: 0.8163\n",
            "Epoch 40/200\n",
            "595/595 [==============================] - 0s 79us/sample - loss: 0.4411 - acc: 0.7983 - val_loss: 0.4438 - val_acc: 0.8027\n",
            "Epoch 41/200\n",
            "595/595 [==============================] - 0s 83us/sample - loss: 0.4441 - acc: 0.7950 - val_loss: 0.4413 - val_acc: 0.7959\n",
            "Epoch 42/200\n",
            "595/595 [==============================] - 0s 78us/sample - loss: 0.4351 - acc: 0.8067 - val_loss: 0.4329 - val_acc: 0.8061\n",
            "Epoch 43/200\n",
            "595/595 [==============================] - 0s 70us/sample - loss: 0.4366 - acc: 0.8101 - val_loss: 0.4332 - val_acc: 0.8061\n",
            "Epoch 44/200\n",
            "595/595 [==============================] - 0s 81us/sample - loss: 0.5058 - acc: 0.7765 - val_loss: 0.4987 - val_acc: 0.8095\n",
            "Epoch 45/200\n",
            "595/595 [==============================] - 0s 69us/sample - loss: 0.5102 - acc: 0.7714 - val_loss: 0.4712 - val_acc: 0.7993\n",
            "Epoch 46/200\n",
            "595/595 [==============================] - 0s 78us/sample - loss: 0.4887 - acc: 0.7983 - val_loss: 0.4622 - val_acc: 0.8095\n",
            "Epoch 47/200\n",
            "595/595 [==============================] - 0s 72us/sample - loss: 0.4725 - acc: 0.8118 - val_loss: 0.4485 - val_acc: 0.7993\n",
            "Epoch 48/200\n",
            "595/595 [==============================] - 0s 68us/sample - loss: 0.4552 - acc: 0.8034 - val_loss: 0.4282 - val_acc: 0.8061\n",
            "Epoch 49/200\n",
            "595/595 [==============================] - 0s 70us/sample - loss: 0.4552 - acc: 0.8017 - val_loss: 0.4267 - val_acc: 0.8197\n",
            "Epoch 50/200\n",
            "595/595 [==============================] - 0s 73us/sample - loss: 0.4460 - acc: 0.8050 - val_loss: 0.4403 - val_acc: 0.8163\n",
            "Epoch 51/200\n",
            "595/595 [==============================] - 0s 70us/sample - loss: 0.4469 - acc: 0.7899 - val_loss: 0.4432 - val_acc: 0.8061\n",
            "Epoch 52/200\n",
            "595/595 [==============================] - 0s 65us/sample - loss: 0.4733 - acc: 0.7966 - val_loss: 0.4427 - val_acc: 0.7925\n",
            "Epoch 53/200\n",
            "595/595 [==============================] - 0s 69us/sample - loss: 0.4472 - acc: 0.8034 - val_loss: 0.4221 - val_acc: 0.8061\n",
            "Epoch 54/200\n",
            "595/595 [==============================] - 0s 74us/sample - loss: 0.4333 - acc: 0.8034 - val_loss: 0.4475 - val_acc: 0.8027\n",
            "Epoch 55/200\n",
            "595/595 [==============================] - 0s 73us/sample - loss: 0.4400 - acc: 0.8050 - val_loss: 0.4282 - val_acc: 0.8129\n",
            "Epoch 56/200\n",
            "595/595 [==============================] - 0s 79us/sample - loss: 0.4409 - acc: 0.8118 - val_loss: 0.4430 - val_acc: 0.8163\n",
            "Epoch 57/200\n",
            "595/595 [==============================] - 0s 74us/sample - loss: 0.4519 - acc: 0.8084 - val_loss: 0.4414 - val_acc: 0.8061\n",
            "Epoch 58/200\n",
            "595/595 [==============================] - 0s 66us/sample - loss: 0.4469 - acc: 0.8084 - val_loss: 0.4457 - val_acc: 0.8163\n",
            "Epoch 59/200\n",
            "595/595 [==============================] - 0s 88us/sample - loss: 0.4439 - acc: 0.7933 - val_loss: 0.4228 - val_acc: 0.8333\n",
            "Epoch 60/200\n",
            "595/595 [==============================] - 0s 69us/sample - loss: 0.4502 - acc: 0.8218 - val_loss: 0.4650 - val_acc: 0.8061\n",
            "Epoch 61/200\n",
            "595/595 [==============================] - 0s 76us/sample - loss: 0.4352 - acc: 0.8118 - val_loss: 0.4644 - val_acc: 0.7993\n",
            "Epoch 62/200\n",
            "595/595 [==============================] - 0s 69us/sample - loss: 0.4553 - acc: 0.8134 - val_loss: 0.4181 - val_acc: 0.8265\n",
            "Epoch 63/200\n",
            "595/595 [==============================] - 0s 75us/sample - loss: 0.4328 - acc: 0.8185 - val_loss: 0.4254 - val_acc: 0.8265\n",
            "Epoch 64/200\n",
            "595/595 [==============================] - 0s 73us/sample - loss: 0.4265 - acc: 0.8134 - val_loss: 0.4156 - val_acc: 0.8163\n",
            "Epoch 65/200\n",
            "595/595 [==============================] - 0s 71us/sample - loss: 0.4291 - acc: 0.8101 - val_loss: 0.4284 - val_acc: 0.8367\n",
            "Epoch 66/200\n",
            "595/595 [==============================] - 0s 68us/sample - loss: 0.4320 - acc: 0.8134 - val_loss: 0.4145 - val_acc: 0.8333\n",
            "Epoch 67/200\n",
            "595/595 [==============================] - 0s 74us/sample - loss: 0.4318 - acc: 0.8084 - val_loss: 0.4394 - val_acc: 0.8197\n",
            "Epoch 68/200\n",
            "595/595 [==============================] - 0s 69us/sample - loss: 0.4391 - acc: 0.8202 - val_loss: 0.4209 - val_acc: 0.8163\n",
            "Epoch 69/200\n",
            "595/595 [==============================] - 0s 72us/sample - loss: 0.4412 - acc: 0.8101 - val_loss: 0.4189 - val_acc: 0.8095\n",
            "Epoch 70/200\n",
            "595/595 [==============================] - 0s 74us/sample - loss: 0.4518 - acc: 0.8017 - val_loss: 0.4368 - val_acc: 0.8401\n",
            "Epoch 71/200\n",
            "595/595 [==============================] - 0s 76us/sample - loss: 0.4380 - acc: 0.8134 - val_loss: 0.4266 - val_acc: 0.8333\n",
            "Epoch 72/200\n",
            "595/595 [==============================] - 0s 69us/sample - loss: 0.4430 - acc: 0.8118 - val_loss: 0.4445 - val_acc: 0.8299\n",
            "Epoch 73/200\n",
            "595/595 [==============================] - 0s 70us/sample - loss: 0.4360 - acc: 0.8168 - val_loss: 0.4288 - val_acc: 0.8265\n",
            "Epoch 74/200\n",
            "595/595 [==============================] - 0s 67us/sample - loss: 0.4369 - acc: 0.8000 - val_loss: 0.4126 - val_acc: 0.8163\n",
            "Epoch 75/200\n",
            "595/595 [==============================] - 0s 70us/sample - loss: 0.4287 - acc: 0.8185 - val_loss: 0.4293 - val_acc: 0.8197\n",
            "Epoch 76/200\n",
            "595/595 [==============================] - 0s 72us/sample - loss: 0.4270 - acc: 0.8235 - val_loss: 0.4171 - val_acc: 0.8231\n",
            "Epoch 77/200\n",
            "595/595 [==============================] - 0s 76us/sample - loss: 0.4306 - acc: 0.8118 - val_loss: 0.4100 - val_acc: 0.8333\n",
            "Epoch 78/200\n",
            "595/595 [==============================] - 0s 77us/sample - loss: 0.4264 - acc: 0.8218 - val_loss: 0.4175 - val_acc: 0.8163\n",
            "Epoch 79/200\n",
            "595/595 [==============================] - 0s 82us/sample - loss: 0.4179 - acc: 0.8252 - val_loss: 0.4117 - val_acc: 0.8299\n",
            "Epoch 80/200\n",
            "595/595 [==============================] - 0s 76us/sample - loss: 0.4380 - acc: 0.8134 - val_loss: 0.4072 - val_acc: 0.8367\n",
            "Epoch 81/200\n",
            "595/595 [==============================] - 0s 66us/sample - loss: 0.4215 - acc: 0.8218 - val_loss: 0.4150 - val_acc: 0.8163\n",
            "Epoch 82/200\n",
            "595/595 [==============================] - 0s 62us/sample - loss: 0.4236 - acc: 0.8134 - val_loss: 0.4242 - val_acc: 0.8299\n",
            "Epoch 83/200\n",
            "595/595 [==============================] - 0s 65us/sample - loss: 0.4370 - acc: 0.8168 - val_loss: 0.4149 - val_acc: 0.8367\n",
            "Epoch 84/200\n",
            "595/595 [==============================] - 0s 71us/sample - loss: 0.4272 - acc: 0.8185 - val_loss: 0.4040 - val_acc: 0.8299\n",
            "Epoch 85/200\n",
            "595/595 [==============================] - 0s 68us/sample - loss: 0.4292 - acc: 0.8218 - val_loss: 0.4086 - val_acc: 0.8435\n",
            "Epoch 86/200\n",
            "595/595 [==============================] - 0s 66us/sample - loss: 0.4165 - acc: 0.8185 - val_loss: 0.4028 - val_acc: 0.8197\n",
            "Epoch 87/200\n",
            "595/595 [==============================] - 0s 71us/sample - loss: 0.4176 - acc: 0.8185 - val_loss: 0.4171 - val_acc: 0.8401\n",
            "Epoch 88/200\n",
            "595/595 [==============================] - 0s 70us/sample - loss: 0.4242 - acc: 0.8202 - val_loss: 0.4149 - val_acc: 0.8163\n",
            "Epoch 89/200\n",
            "595/595 [==============================] - 0s 71us/sample - loss: 0.4160 - acc: 0.8235 - val_loss: 0.4120 - val_acc: 0.8367\n",
            "Epoch 90/200\n",
            "595/595 [==============================] - 0s 70us/sample - loss: 0.4248 - acc: 0.8134 - val_loss: 0.3994 - val_acc: 0.8265\n",
            "Epoch 91/200\n",
            "595/595 [==============================] - 0s 71us/sample - loss: 0.4196 - acc: 0.8151 - val_loss: 0.4189 - val_acc: 0.8061\n",
            "Epoch 92/200\n",
            "595/595 [==============================] - 0s 71us/sample - loss: 0.4217 - acc: 0.8151 - val_loss: 0.4358 - val_acc: 0.8401\n",
            "Epoch 93/200\n",
            "595/595 [==============================] - 0s 64us/sample - loss: 0.4297 - acc: 0.8235 - val_loss: 0.4068 - val_acc: 0.8197\n",
            "Epoch 94/200\n",
            "595/595 [==============================] - 0s 68us/sample - loss: 0.4465 - acc: 0.8084 - val_loss: 0.4427 - val_acc: 0.8333\n",
            "Epoch 95/200\n",
            "595/595 [==============================] - 0s 73us/sample - loss: 0.4491 - acc: 0.8151 - val_loss: 0.4228 - val_acc: 0.8367\n",
            "Epoch 96/200\n",
            "595/595 [==============================] - 0s 67us/sample - loss: 0.4369 - acc: 0.8084 - val_loss: 0.4262 - val_acc: 0.8095\n",
            "Epoch 97/200\n",
            "595/595 [==============================] - 0s 69us/sample - loss: 0.4338 - acc: 0.8050 - val_loss: 0.4723 - val_acc: 0.8163\n",
            "Epoch 98/200\n",
            "595/595 [==============================] - 0s 71us/sample - loss: 0.4744 - acc: 0.8034 - val_loss: 0.4320 - val_acc: 0.8095\n",
            "Epoch 99/200\n",
            "595/595 [==============================] - 0s 66us/sample - loss: 0.4240 - acc: 0.8101 - val_loss: 0.4036 - val_acc: 0.8299\n",
            "Epoch 100/200\n",
            "595/595 [==============================] - 0s 69us/sample - loss: 0.4185 - acc: 0.8235 - val_loss: 0.4067 - val_acc: 0.8333\n",
            "Epoch 101/200\n",
            "595/595 [==============================] - 0s 69us/sample - loss: 0.4136 - acc: 0.8269 - val_loss: 0.4076 - val_acc: 0.8333\n",
            "Epoch 102/200\n",
            "595/595 [==============================] - 0s 81us/sample - loss: 0.4180 - acc: 0.8286 - val_loss: 0.4143 - val_acc: 0.8231\n",
            "Epoch 103/200\n",
            "595/595 [==============================] - 0s 71us/sample - loss: 0.4086 - acc: 0.8235 - val_loss: 0.4062 - val_acc: 0.8265\n",
            "Epoch 104/200\n",
            "595/595 [==============================] - 0s 66us/sample - loss: 0.4174 - acc: 0.8218 - val_loss: 0.4165 - val_acc: 0.8367\n",
            "Epoch 105/200\n",
            "595/595 [==============================] - 0s 76us/sample - loss: 0.4262 - acc: 0.8067 - val_loss: 0.4115 - val_acc: 0.8299\n",
            "Epoch 106/200\n",
            "595/595 [==============================] - 0s 70us/sample - loss: 0.4219 - acc: 0.8151 - val_loss: 0.4252 - val_acc: 0.8197\n",
            "Epoch 107/200\n",
            "595/595 [==============================] - 0s 66us/sample - loss: 0.4156 - acc: 0.8168 - val_loss: 0.4045 - val_acc: 0.8503\n",
            "Epoch 108/200\n",
            "595/595 [==============================] - 0s 71us/sample - loss: 0.4238 - acc: 0.8151 - val_loss: 0.4131 - val_acc: 0.8265\n",
            "Epoch 109/200\n",
            "595/595 [==============================] - 0s 71us/sample - loss: 0.4319 - acc: 0.8252 - val_loss: 0.4224 - val_acc: 0.8197\n",
            "Epoch 110/200\n",
            "595/595 [==============================] - 0s 72us/sample - loss: 0.4344 - acc: 0.8034 - val_loss: 0.4127 - val_acc: 0.8367\n",
            "Epoch 111/200\n",
            "595/595 [==============================] - 0s 69us/sample - loss: 0.4305 - acc: 0.8218 - val_loss: 0.4203 - val_acc: 0.8129\n",
            "Epoch 112/200\n",
            "595/595 [==============================] - 0s 68us/sample - loss: 0.4306 - acc: 0.8134 - val_loss: 0.4309 - val_acc: 0.8163\n",
            "Epoch 113/200\n",
            "595/595 [==============================] - 0s 69us/sample - loss: 0.4151 - acc: 0.8151 - val_loss: 0.3984 - val_acc: 0.8265\n",
            "Epoch 114/200\n",
            "595/595 [==============================] - 0s 66us/sample - loss: 0.4141 - acc: 0.8218 - val_loss: 0.4243 - val_acc: 0.8367\n",
            "Epoch 115/200\n",
            "595/595 [==============================] - 0s 67us/sample - loss: 0.4147 - acc: 0.8235 - val_loss: 0.4052 - val_acc: 0.8265\n",
            "Epoch 116/200\n",
            "595/595 [==============================] - 0s 66us/sample - loss: 0.4248 - acc: 0.8185 - val_loss: 0.4041 - val_acc: 0.8299\n",
            "Epoch 117/200\n",
            "595/595 [==============================] - 0s 73us/sample - loss: 0.4156 - acc: 0.8185 - val_loss: 0.4193 - val_acc: 0.8163\n",
            "Epoch 118/200\n",
            "595/595 [==============================] - 0s 74us/sample - loss: 0.4151 - acc: 0.8168 - val_loss: 0.4106 - val_acc: 0.8367\n",
            "Epoch 119/200\n",
            "595/595 [==============================] - 0s 66us/sample - loss: 0.4166 - acc: 0.8151 - val_loss: 0.4013 - val_acc: 0.8265\n",
            "Epoch 120/200\n",
            "595/595 [==============================] - 0s 65us/sample - loss: 0.4126 - acc: 0.8235 - val_loss: 0.4093 - val_acc: 0.8367\n",
            "Epoch 121/200\n",
            "595/595 [==============================] - 0s 69us/sample - loss: 0.4089 - acc: 0.8202 - val_loss: 0.4273 - val_acc: 0.8367\n",
            "Epoch 122/200\n",
            "595/595 [==============================] - 0s 71us/sample - loss: 0.4320 - acc: 0.8168 - val_loss: 0.4099 - val_acc: 0.8333\n",
            "Epoch 123/200\n",
            "595/595 [==============================] - 0s 69us/sample - loss: 0.4168 - acc: 0.8235 - val_loss: 0.4110 - val_acc: 0.8265\n",
            "Epoch 124/200\n",
            "595/595 [==============================] - 0s 73us/sample - loss: 0.4139 - acc: 0.8235 - val_loss: 0.4061 - val_acc: 0.8299\n",
            "Epoch 125/200\n",
            "595/595 [==============================] - 0s 69us/sample - loss: 0.4116 - acc: 0.8202 - val_loss: 0.3984 - val_acc: 0.8231\n",
            "Epoch 126/200\n",
            "595/595 [==============================] - 0s 69us/sample - loss: 0.4076 - acc: 0.8235 - val_loss: 0.4328 - val_acc: 0.8469\n",
            "Epoch 127/200\n",
            "595/595 [==============================] - 0s 64us/sample - loss: 0.4239 - acc: 0.8252 - val_loss: 0.4101 - val_acc: 0.8231\n",
            "Epoch 128/200\n",
            "595/595 [==============================] - 0s 71us/sample - loss: 0.4204 - acc: 0.8252 - val_loss: 0.4198 - val_acc: 0.8469\n",
            "Epoch 129/200\n",
            "595/595 [==============================] - 0s 69us/sample - loss: 0.4210 - acc: 0.8118 - val_loss: 0.4032 - val_acc: 0.8299\n",
            "Epoch 130/200\n",
            "595/595 [==============================] - 0s 65us/sample - loss: 0.4110 - acc: 0.8235 - val_loss: 0.4014 - val_acc: 0.8265\n",
            "Epoch 131/200\n",
            "595/595 [==============================] - 0s 80us/sample - loss: 0.4107 - acc: 0.8185 - val_loss: 0.4008 - val_acc: 0.8265\n",
            "Epoch 132/200\n",
            "595/595 [==============================] - 0s 65us/sample - loss: 0.4133 - acc: 0.8202 - val_loss: 0.4247 - val_acc: 0.8333\n",
            "Epoch 133/200\n",
            "595/595 [==============================] - 0s 65us/sample - loss: 0.4157 - acc: 0.8218 - val_loss: 0.4010 - val_acc: 0.8231\n",
            "Epoch 134/200\n",
            "595/595 [==============================] - 0s 66us/sample - loss: 0.4191 - acc: 0.8202 - val_loss: 0.4269 - val_acc: 0.8469\n",
            "Epoch 135/200\n",
            "595/595 [==============================] - 0s 70us/sample - loss: 0.4343 - acc: 0.8235 - val_loss: 0.4264 - val_acc: 0.8299\n",
            "Epoch 136/200\n",
            "595/595 [==============================] - 0s 66us/sample - loss: 0.4387 - acc: 0.8067 - val_loss: 0.4269 - val_acc: 0.8163\n",
            "Epoch 137/200\n",
            "595/595 [==============================] - 0s 68us/sample - loss: 0.4201 - acc: 0.8134 - val_loss: 0.3981 - val_acc: 0.8435\n",
            "Epoch 138/200\n",
            "595/595 [==============================] - 0s 67us/sample - loss: 0.4096 - acc: 0.8202 - val_loss: 0.4115 - val_acc: 0.8299\n",
            "Epoch 139/200\n",
            "595/595 [==============================] - 0s 69us/sample - loss: 0.4097 - acc: 0.8252 - val_loss: 0.4063 - val_acc: 0.8333\n",
            "Epoch 140/200\n",
            "595/595 [==============================] - 0s 74us/sample - loss: 0.4171 - acc: 0.8218 - val_loss: 0.4122 - val_acc: 0.8265\n",
            "Epoch 141/200\n",
            "595/595 [==============================] - 0s 67us/sample - loss: 0.4158 - acc: 0.8235 - val_loss: 0.4093 - val_acc: 0.8503\n",
            "Epoch 142/200\n",
            "595/595 [==============================] - 0s 65us/sample - loss: 0.4326 - acc: 0.8034 - val_loss: 0.4063 - val_acc: 0.8231\n",
            "Epoch 143/200\n",
            "595/595 [==============================] - 0s 68us/sample - loss: 0.4254 - acc: 0.8202 - val_loss: 0.3992 - val_acc: 0.8231\n",
            "Epoch 144/200\n",
            "595/595 [==============================] - 0s 66us/sample - loss: 0.4194 - acc: 0.8185 - val_loss: 0.4129 - val_acc: 0.8367\n",
            "Epoch 145/200\n",
            "595/595 [==============================] - 0s 82us/sample - loss: 0.4122 - acc: 0.8151 - val_loss: 0.4119 - val_acc: 0.8299\n",
            "Epoch 146/200\n",
            "595/595 [==============================] - 0s 72us/sample - loss: 0.4180 - acc: 0.8252 - val_loss: 0.4160 - val_acc: 0.8129\n",
            "Epoch 147/200\n",
            "595/595 [==============================] - 0s 77us/sample - loss: 0.4107 - acc: 0.8252 - val_loss: 0.4223 - val_acc: 0.8367\n",
            "Epoch 148/200\n",
            "595/595 [==============================] - 0s 67us/sample - loss: 0.4194 - acc: 0.8202 - val_loss: 0.4021 - val_acc: 0.8367\n",
            "Epoch 149/200\n",
            "595/595 [==============================] - 0s 72us/sample - loss: 0.4012 - acc: 0.8269 - val_loss: 0.3996 - val_acc: 0.8265\n",
            "Epoch 150/200\n",
            "595/595 [==============================] - 0s 66us/sample - loss: 0.4014 - acc: 0.8269 - val_loss: 0.4093 - val_acc: 0.8367\n",
            "Epoch 151/200\n",
            "595/595 [==============================] - 0s 70us/sample - loss: 0.4166 - acc: 0.8202 - val_loss: 0.4082 - val_acc: 0.8367\n",
            "Epoch 152/200\n",
            "595/595 [==============================] - 0s 68us/sample - loss: 0.4126 - acc: 0.8235 - val_loss: 0.4069 - val_acc: 0.8401\n",
            "Epoch 153/200\n",
            "595/595 [==============================] - 0s 68us/sample - loss: 0.4162 - acc: 0.8218 - val_loss: 0.4121 - val_acc: 0.8401\n",
            "Epoch 154/200\n",
            "595/595 [==============================] - 0s 67us/sample - loss: 0.4212 - acc: 0.8235 - val_loss: 0.4199 - val_acc: 0.8163\n",
            "Epoch 155/200\n",
            "595/595 [==============================] - 0s 65us/sample - loss: 0.4097 - acc: 0.8286 - val_loss: 0.4091 - val_acc: 0.8231\n",
            "Epoch 156/200\n",
            "595/595 [==============================] - 0s 72us/sample - loss: 0.4050 - acc: 0.8269 - val_loss: 0.4049 - val_acc: 0.8299\n",
            "Epoch 157/200\n",
            "595/595 [==============================] - 0s 68us/sample - loss: 0.4086 - acc: 0.8235 - val_loss: 0.4023 - val_acc: 0.8367\n",
            "Epoch 158/200\n",
            "595/595 [==============================] - 0s 73us/sample - loss: 0.4003 - acc: 0.8269 - val_loss: 0.4108 - val_acc: 0.8095\n",
            "Epoch 159/200\n",
            "595/595 [==============================] - 0s 72us/sample - loss: 0.3990 - acc: 0.8252 - val_loss: 0.3966 - val_acc: 0.8367\n",
            "Epoch 160/200\n",
            "595/595 [==============================] - 0s 68us/sample - loss: 0.3991 - acc: 0.8269 - val_loss: 0.4056 - val_acc: 0.8367\n",
            "Epoch 161/200\n",
            "595/595 [==============================] - 0s 66us/sample - loss: 0.4359 - acc: 0.8185 - val_loss: 0.4200 - val_acc: 0.8435\n",
            "Epoch 162/200\n",
            "595/595 [==============================] - 0s 67us/sample - loss: 0.4196 - acc: 0.8218 - val_loss: 0.4253 - val_acc: 0.8401\n",
            "Epoch 163/200\n",
            "595/595 [==============================] - 0s 67us/sample - loss: 0.4378 - acc: 0.8202 - val_loss: 0.4224 - val_acc: 0.8333\n",
            "Epoch 164/200\n",
            "595/595 [==============================] - 0s 68us/sample - loss: 0.4170 - acc: 0.8168 - val_loss: 0.4019 - val_acc: 0.8231\n",
            "Epoch 165/200\n",
            "595/595 [==============================] - 0s 68us/sample - loss: 0.4264 - acc: 0.8202 - val_loss: 0.4331 - val_acc: 0.8333\n",
            "Epoch 166/200\n",
            "595/595 [==============================] - 0s 70us/sample - loss: 0.4324 - acc: 0.8235 - val_loss: 0.4228 - val_acc: 0.8197\n",
            "Epoch 167/200\n",
            "595/595 [==============================] - 0s 69us/sample - loss: 0.4248 - acc: 0.8134 - val_loss: 0.3986 - val_acc: 0.8333\n",
            "Epoch 168/200\n",
            "595/595 [==============================] - 0s 66us/sample - loss: 0.4299 - acc: 0.8202 - val_loss: 0.4282 - val_acc: 0.8367\n",
            "Epoch 169/200\n",
            "595/595 [==============================] - 0s 66us/sample - loss: 0.4237 - acc: 0.8168 - val_loss: 0.4216 - val_acc: 0.8299\n",
            "Epoch 170/200\n",
            "595/595 [==============================] - 0s 68us/sample - loss: 0.4097 - acc: 0.8252 - val_loss: 0.4057 - val_acc: 0.8231\n",
            "Epoch 171/200\n",
            "595/595 [==============================] - 0s 64us/sample - loss: 0.4061 - acc: 0.8202 - val_loss: 0.3942 - val_acc: 0.8163\n",
            "Epoch 172/200\n",
            "595/595 [==============================] - 0s 65us/sample - loss: 0.4317 - acc: 0.8050 - val_loss: 0.4321 - val_acc: 0.8231\n",
            "Epoch 173/200\n",
            "595/595 [==============================] - 0s 69us/sample - loss: 0.4162 - acc: 0.8151 - val_loss: 0.4151 - val_acc: 0.8367\n",
            "Epoch 174/200\n",
            "595/595 [==============================] - 0s 69us/sample - loss: 0.4084 - acc: 0.8252 - val_loss: 0.4033 - val_acc: 0.8163\n",
            "Epoch 175/200\n",
            "595/595 [==============================] - 0s 69us/sample - loss: 0.4071 - acc: 0.8235 - val_loss: 0.4101 - val_acc: 0.8469\n",
            "Epoch 176/200\n",
            "595/595 [==============================] - 0s 63us/sample - loss: 0.4122 - acc: 0.8252 - val_loss: 0.4101 - val_acc: 0.8265\n",
            "Epoch 177/200\n",
            "595/595 [==============================] - 0s 73us/sample - loss: 0.4054 - acc: 0.8269 - val_loss: 0.4078 - val_acc: 0.8163\n",
            "Epoch 178/200\n",
            "595/595 [==============================] - 0s 67us/sample - loss: 0.4068 - acc: 0.8185 - val_loss: 0.4002 - val_acc: 0.8435\n",
            "Epoch 179/200\n",
            "595/595 [==============================] - 0s 69us/sample - loss: 0.4067 - acc: 0.8235 - val_loss: 0.4028 - val_acc: 0.8163\n",
            "Epoch 180/200\n",
            "595/595 [==============================] - 0s 66us/sample - loss: 0.4328 - acc: 0.8168 - val_loss: 0.4253 - val_acc: 0.8061\n",
            "Epoch 181/200\n",
            "595/595 [==============================] - 0s 73us/sample - loss: 0.4233 - acc: 0.8168 - val_loss: 0.4021 - val_acc: 0.8265\n",
            "Epoch 182/200\n",
            "595/595 [==============================] - 0s 71us/sample - loss: 0.4013 - acc: 0.8269 - val_loss: 0.4063 - val_acc: 0.8197\n",
            "Epoch 183/200\n",
            "595/595 [==============================] - 0s 64us/sample - loss: 0.3972 - acc: 0.8303 - val_loss: 0.4034 - val_acc: 0.8265\n",
            "Epoch 184/200\n",
            "595/595 [==============================] - 0s 69us/sample - loss: 0.4071 - acc: 0.8235 - val_loss: 0.3919 - val_acc: 0.8299\n",
            "Epoch 185/200\n",
            "595/595 [==============================] - 0s 72us/sample - loss: 0.4093 - acc: 0.8235 - val_loss: 0.4122 - val_acc: 0.8367\n",
            "Epoch 186/200\n",
            "595/595 [==============================] - 0s 66us/sample - loss: 0.4103 - acc: 0.8252 - val_loss: 0.4186 - val_acc: 0.8095\n",
            "Epoch 187/200\n",
            "595/595 [==============================] - 0s 73us/sample - loss: 0.4097 - acc: 0.8218 - val_loss: 0.4014 - val_acc: 0.8163\n",
            "Epoch 188/200\n",
            "595/595 [==============================] - 0s 84us/sample - loss: 0.4070 - acc: 0.8269 - val_loss: 0.4085 - val_acc: 0.8367\n",
            "Epoch 189/200\n",
            "595/595 [==============================] - 0s 71us/sample - loss: 0.4027 - acc: 0.8252 - val_loss: 0.4021 - val_acc: 0.8333\n",
            "Epoch 190/200\n",
            "595/595 [==============================] - 0s 82us/sample - loss: 0.4206 - acc: 0.8286 - val_loss: 0.4251 - val_acc: 0.8197\n",
            "Epoch 191/200\n",
            "595/595 [==============================] - 0s 65us/sample - loss: 0.4289 - acc: 0.8118 - val_loss: 0.4039 - val_acc: 0.8299\n",
            "Epoch 192/200\n",
            "595/595 [==============================] - 0s 64us/sample - loss: 0.4100 - acc: 0.8185 - val_loss: 0.3999 - val_acc: 0.8299\n",
            "Epoch 193/200\n",
            "595/595 [==============================] - 0s 68us/sample - loss: 0.4097 - acc: 0.8235 - val_loss: 0.4141 - val_acc: 0.8435\n",
            "Epoch 194/200\n",
            "595/595 [==============================] - 0s 67us/sample - loss: 0.4205 - acc: 0.8286 - val_loss: 0.4143 - val_acc: 0.8367\n",
            "Epoch 195/200\n",
            "595/595 [==============================] - 0s 63us/sample - loss: 0.4134 - acc: 0.8134 - val_loss: 0.4002 - val_acc: 0.8333\n",
            "Epoch 196/200\n",
            "595/595 [==============================] - 0s 76us/sample - loss: 0.4108 - acc: 0.8218 - val_loss: 0.4070 - val_acc: 0.8333\n",
            "Epoch 197/200\n",
            "595/595 [==============================] - 0s 68us/sample - loss: 0.4076 - acc: 0.8235 - val_loss: 0.4012 - val_acc: 0.8129\n",
            "Epoch 198/200\n",
            "595/595 [==============================] - 0s 66us/sample - loss: 0.4250 - acc: 0.8218 - val_loss: 0.4026 - val_acc: 0.8401\n",
            "Epoch 199/200\n",
            "595/595 [==============================] - 0s 70us/sample - loss: 0.4154 - acc: 0.8235 - val_loss: 0.4091 - val_acc: 0.8333\n",
            "Epoch 200/200\n",
            "595/595 [==============================] - 0s 74us/sample - loss: 0.4117 - acc: 0.8235 - val_loss: 0.4079 - val_acc: 0.8401\n"
          ],
          "name": "stdout"
        }
      ]
    },
    {
      "metadata": {
        "id": "SYAqIHfHlqsM",
        "colab_type": "code",
        "colab": {
          "base_uri": "https://localhost:8080/",
          "height": 282
        },
        "outputId": "56be4681-4159-4232-e67e-a9dfe1e2ea30"
      },
      "cell_type": "code",
      "source": [
        "plt.plot(h.history['acc'])"
      ],
      "execution_count": 198,
      "outputs": [
        {
          "output_type": "execute_result",
          "data": {
            "text/plain": [
              "[<matplotlib.lines.Line2D at 0x7efc3ccf30f0>]"
            ]
          },
          "metadata": {
            "tags": []
          },
          "execution_count": 198
        },
        {
          "output_type": "display_data",
          "data": {
            "image/png": "[encoded data removed]",
            "text/plain": [
              "<Figure size 432x288 with 1 Axes>"
            ]
          },
          "metadata": {
            "tags": []
          }
        }
      ]
    },
    {
      "metadata": {
        "id": "l8F1UzMqmYUW",
        "colab_type": "text"
      },
      "cell_type": "markdown",
      "source": [
        "Note: Accuracy is peaking at 0.8235"
      ]
    },
    {
      "metadata": {
        "id": "dapGAjpgmARX",
        "colab_type": "code",
        "colab": {}
      },
      "cell_type": "code",
      "source": [
        ""
      ],
      "execution_count": 0,
      "outputs": []
    }
  ]
}