{
  "nbformat": 4,
  "nbformat_minor": 0,
  "metadata": {
    "colab": {
      "name": "Simple_Housing_Dataset.ipynb",
      "version": "0.3.2",
      "provenance": [],
      "collapsed_sections": [],
      "include_colab_link": true
    },
    "kernelspec": {
      "name": "python3",
      "display_name": "Python 3"
    }
  },
  "cells": [
    {
      "cell_type": "markdown",
      "metadata": {
        "id": "view-in-github",
        "colab_type": "text"
      },
      "source": [
        "<a href=\"https://colab.research.google.com/github/karimqasim/MachineLearning/blob/master/Simple_Housing_Dataset.ipynb\" target=\"_parent\"><img src=\"https://colab.research.google.com/assets/colab-badge.svg\" alt=\"Open In Colab\"/></a>"
      ]
    },
    {
      "metadata": {
        "id": "bWLg-UeZs5Px",
        "colab_type": "code",
        "colab": {
          "base_uri": "https://localhost:8080/",
          "height": 204
        },
        "outputId": "e560d2e2-9034-425a-ec13-82fe4194c0bc"
      },
      "cell_type": "code",
      "source": [
        "!wget https://storage.googleapis.com/nicksdemobucket/housing-data.csv"
      ],
      "execution_count": 32,
      "outputs": [
        {
          "output_type": "stream",
          "text": [
            "--2019-03-27 01:52:31--  https://storage.googleapis.com/nicksdemobucket/housing-data.csv\n",
            "Resolving storage.googleapis.com (storage.googleapis.com)... 74.125.195.128, 2607:f8b0:400e:c08::80\n",
            "Connecting to storage.googleapis.com (storage.googleapis.com)|74.125.195.128|:443... connected.\n",
            "HTTP request sent, awaiting response... 200 OK\n",
            "Length: 816 [application/octet-stream]\n",
            "Saving to: ‘housing-data.csv.1’\n",
            "\n",
            "\rhousing-data.csv.1    0%[                    ]       0  --.-KB/s               \rhousing-data.csv.1  100%[===================>]     816  --.-KB/s    in 0s      \n",
            "\n",
            "2019-03-27 01:52:31 (21.0 MB/s) - ‘housing-data.csv.1’ saved [816/816]\n",
            "\n"
          ],
          "name": "stdout"
        }
      ]
    },
    {
      "metadata": {
        "id": "cwStkAjeu_tO",
        "colab_type": "code",
        "colab": {}
      },
      "cell_type": "code",
      "source": [
        "import pandas as pd\n",
        "import numpy as np\n",
        "\n",
        "import matplotlib.pyplot as plt\n",
        "import seaborn as sns\n",
        "%matplotlib inline"
      ],
      "execution_count": 0,
      "outputs": []
    },
    {
      "metadata": {
        "id": "DRGCD_PTvGFk",
        "colab_type": "code",
        "colab": {}
      },
      "cell_type": "code",
      "source": [
        "df = pd.read_csv('housing-data.csv')"
      ],
      "execution_count": 0,
      "outputs": []
    },
    {
      "metadata": {
        "id": "o1QW6yLlvMde",
        "colab_type": "code",
        "colab": {
          "base_uri": "https://localhost:8080/",
          "height": 204
        },
        "outputId": "a23adf55-17e7-4232-f310-0e1536df1c99"
      },
      "cell_type": "code",
      "source": [
        "df.head()"
      ],
      "execution_count": 35,
      "outputs": [
        {
          "output_type": "execute_result",
          "data": {
            "text/html": [
              "<div>\n",
              "<style scoped>\n",
              "    .dataframe tbody tr th:only-of-type {\n",
              "        vertical-align: middle;\n",
              "    }\n",
              "\n",
              "    .dataframe tbody tr th {\n",
              "        vertical-align: top;\n",
              "    }\n",
              "\n",
              "    .dataframe thead th {\n",
              "        text-align: right;\n",
              "    }\n",
              "</style>\n",
              "<table border=\"1\" class=\"dataframe\">\n",
              "  <thead>\n",
              "    <tr style=\"text-align: right;\">\n",
              "      <th></th>\n",
              "      <th>sqft</th>\n",
              "      <th>bdrms</th>\n",
              "      <th>age</th>\n",
              "      <th>price</th>\n",
              "    </tr>\n",
              "  </thead>\n",
              "  <tbody>\n",
              "    <tr>\n",
              "      <th>0</th>\n",
              "      <td>2104</td>\n",
              "      <td>3</td>\n",
              "      <td>70</td>\n",
              "      <td>399900</td>\n",
              "    </tr>\n",
              "    <tr>\n",
              "      <th>1</th>\n",
              "      <td>1600</td>\n",
              "      <td>3</td>\n",
              "      <td>28</td>\n",
              "      <td>329900</td>\n",
              "    </tr>\n",
              "    <tr>\n",
              "      <th>2</th>\n",
              "      <td>2400</td>\n",
              "      <td>3</td>\n",
              "      <td>44</td>\n",
              "      <td>369000</td>\n",
              "    </tr>\n",
              "    <tr>\n",
              "      <th>3</th>\n",
              "      <td>1416</td>\n",
              "      <td>2</td>\n",
              "      <td>49</td>\n",
              "      <td>232000</td>\n",
              "    </tr>\n",
              "    <tr>\n",
              "      <th>4</th>\n",
              "      <td>3000</td>\n",
              "      <td>4</td>\n",
              "      <td>75</td>\n",
              "      <td>539900</td>\n",
              "    </tr>\n",
              "  </tbody>\n",
              "</table>\n",
              "</div>"
            ],
            "text/plain": [
              "   sqft  bdrms  age   price\n",
              "0  2104      3   70  399900\n",
              "1  1600      3   28  329900\n",
              "2  2400      3   44  369000\n",
              "3  1416      2   49  232000\n",
              "4  3000      4   75  539900"
            ]
          },
          "metadata": {
            "tags": []
          },
          "execution_count": 35
        }
      ]
    },
    {
      "metadata": {
        "id": "30NgMJ2ZvOBW",
        "colab_type": "code",
        "colab": {
          "base_uri": "https://localhost:8080/",
          "height": 170
        },
        "outputId": "031b281d-d80b-42b5-e146-ed1229cbade5"
      },
      "cell_type": "code",
      "source": [
        "df.info()"
      ],
      "execution_count": 36,
      "outputs": [
        {
          "output_type": "stream",
          "text": [
            "<class 'pandas.core.frame.DataFrame'>\n",
            "RangeIndex: 47 entries, 0 to 46\n",
            "Data columns (total 4 columns):\n",
            "sqft     47 non-null int64\n",
            "bdrms    47 non-null int64\n",
            "age      47 non-null int64\n",
            "price    47 non-null int64\n",
            "dtypes: int64(4)\n",
            "memory usage: 1.5 KB\n"
          ],
          "name": "stdout"
        }
      ]
    },
    {
      "metadata": {
        "id": "qvwDUVpj2ZN3",
        "colab_type": "text"
      },
      "cell_type": "markdown",
      "source": [
        "# Normalizing data"
      ]
    },
    {
      "metadata": {
        "id": "bmZYODtk0O56",
        "colab_type": "code",
        "colab": {}
      },
      "cell_type": "code",
      "source": [
        "mean = df.mean(axis=0)\n",
        "df -= mean\n",
        "std = df.std(axis=0)\n",
        "df /= std"
      ],
      "execution_count": 0,
      "outputs": []
    },
    {
      "metadata": {
        "id": "MQcWNI662RHY",
        "colab_type": "code",
        "colab": {
          "base_uri": "https://localhost:8080/",
          "height": 204
        },
        "outputId": "bbed81c3-9252-4bdf-a086-345f966a00de"
      },
      "cell_type": "code",
      "source": [
        "df.head()"
      ],
      "execution_count": 39,
      "outputs": [
        {
          "output_type": "execute_result",
          "data": {
            "text/html": [
              "<div>\n",
              "<style scoped>\n",
              "    .dataframe tbody tr th:only-of-type {\n",
              "        vertical-align: middle;\n",
              "    }\n",
              "\n",
              "    .dataframe tbody tr th {\n",
              "        vertical-align: top;\n",
              "    }\n",
              "\n",
              "    .dataframe thead th {\n",
              "        text-align: right;\n",
              "    }\n",
              "</style>\n",
              "<table border=\"1\" class=\"dataframe\">\n",
              "  <thead>\n",
              "    <tr style=\"text-align: right;\">\n",
              "      <th></th>\n",
              "      <th>sqft</th>\n",
              "      <th>bdrms</th>\n",
              "      <th>age</th>\n",
              "      <th>price</th>\n",
              "    </tr>\n",
              "  </thead>\n",
              "  <tbody>\n",
              "    <tr>\n",
              "      <th>0</th>\n",
              "      <td>0.130010</td>\n",
              "      <td>-0.223675</td>\n",
              "      <td>1.191571</td>\n",
              "      <td>0.475747</td>\n",
              "    </tr>\n",
              "    <tr>\n",
              "      <th>1</th>\n",
              "      <td>-0.504190</td>\n",
              "      <td>-0.223675</td>\n",
              "      <td>-0.644620</td>\n",
              "      <td>-0.084074</td>\n",
              "    </tr>\n",
              "    <tr>\n",
              "      <th>2</th>\n",
              "      <td>0.502476</td>\n",
              "      <td>-0.223675</td>\n",
              "      <td>0.054881</td>\n",
              "      <td>0.228626</td>\n",
              "    </tr>\n",
              "    <tr>\n",
              "      <th>3</th>\n",
              "      <td>-0.735723</td>\n",
              "      <td>-1.537767</td>\n",
              "      <td>0.273475</td>\n",
              "      <td>-0.867025</td>\n",
              "    </tr>\n",
              "    <tr>\n",
              "      <th>4</th>\n",
              "      <td>1.257476</td>\n",
              "      <td>1.090417</td>\n",
              "      <td>1.410165</td>\n",
              "      <td>1.595389</td>\n",
              "    </tr>\n",
              "  </tbody>\n",
              "</table>\n",
              "</div>"
            ],
            "text/plain": [
              "       sqft     bdrms       age     price\n",
              "0  0.130010 -0.223675  1.191571  0.475747\n",
              "1 -0.504190 -0.223675 -0.644620 -0.084074\n",
              "2  0.502476 -0.223675  0.054881  0.228626\n",
              "3 -0.735723 -1.537767  0.273475 -0.867025\n",
              "4  1.257476  1.090417  1.410165  1.595389"
            ]
          },
          "metadata": {
            "tags": []
          },
          "execution_count": 39
        }
      ]
    },
    {
      "metadata": {
        "id": "fL5NE-D8xpvx",
        "colab_type": "code",
        "colab": {}
      },
      "cell_type": "code",
      "source": [
        "features = df.drop(['price'], axis=1)"
      ],
      "execution_count": 0,
      "outputs": []
    },
    {
      "metadata": {
        "id": "vjEJ3AGMxzUp",
        "colab_type": "code",
        "colab": {
          "base_uri": "https://localhost:8080/",
          "height": 1506
        },
        "outputId": "79b28f6b-1501-404e-ded8-40892a2b47df"
      },
      "cell_type": "code",
      "source": [
        "features"
      ],
      "execution_count": 41,
      "outputs": [
        {
          "output_type": "execute_result",
          "data": {
            "text/html": [
              "<div>\n",
              "<style scoped>\n",
              "    .dataframe tbody tr th:only-of-type {\n",
              "        vertical-align: middle;\n",
              "    }\n",
              "\n",
              "    .dataframe tbody tr th {\n",
              "        vertical-align: top;\n",
              "    }\n",
              "\n",
              "    .dataframe thead th {\n",
              "        text-align: right;\n",
              "    }\n",
              "</style>\n",
              "<table border=\"1\" class=\"dataframe\">\n",
              "  <thead>\n",
              "    <tr style=\"text-align: right;\">\n",
              "      <th></th>\n",
              "      <th>sqft</th>\n",
              "      <th>bdrms</th>\n",
              "      <th>age</th>\n",
              "    </tr>\n",
              "  </thead>\n",
              "  <tbody>\n",
              "    <tr>\n",
              "      <th>0</th>\n",
              "      <td>0.130010</td>\n",
              "      <td>-0.223675</td>\n",
              "      <td>1.191571</td>\n",
              "    </tr>\n",
              "    <tr>\n",
              "      <th>1</th>\n",
              "      <td>-0.504190</td>\n",
              "      <td>-0.223675</td>\n",
              "      <td>-0.644620</td>\n",
              "    </tr>\n",
              "    <tr>\n",
              "      <th>2</th>\n",
              "      <td>0.502476</td>\n",
              "      <td>-0.223675</td>\n",
              "      <td>0.054881</td>\n",
              "    </tr>\n",
              "    <tr>\n",
              "      <th>3</th>\n",
              "      <td>-0.735723</td>\n",
              "      <td>-1.537767</td>\n",
              "      <td>0.273475</td>\n",
              "    </tr>\n",
              "    <tr>\n",
              "      <th>4</th>\n",
              "      <td>1.257476</td>\n",
              "      <td>1.090417</td>\n",
              "      <td>1.410165</td>\n",
              "    </tr>\n",
              "    <tr>\n",
              "      <th>5</th>\n",
              "      <td>-0.019732</td>\n",
              "      <td>1.090417</td>\n",
              "      <td>0.798101</td>\n",
              "    </tr>\n",
              "    <tr>\n",
              "      <th>6</th>\n",
              "      <td>-0.587240</td>\n",
              "      <td>-0.223675</td>\n",
              "      <td>-1.344121</td>\n",
              "    </tr>\n",
              "    <tr>\n",
              "      <th>7</th>\n",
              "      <td>-0.721881</td>\n",
              "      <td>-0.223675</td>\n",
              "      <td>0.623226</td>\n",
              "    </tr>\n",
              "    <tr>\n",
              "      <th>8</th>\n",
              "      <td>-0.781023</td>\n",
              "      <td>-0.223675</td>\n",
              "      <td>-1.256684</td>\n",
              "    </tr>\n",
              "    <tr>\n",
              "      <th>9</th>\n",
              "      <td>-0.637573</td>\n",
              "      <td>-0.223675</td>\n",
              "      <td>-1.212965</td>\n",
              "    </tr>\n",
              "    <tr>\n",
              "      <th>10</th>\n",
              "      <td>-0.076357</td>\n",
              "      <td>1.090417</td>\n",
              "      <td>-1.562716</td>\n",
              "    </tr>\n",
              "    <tr>\n",
              "      <th>11</th>\n",
              "      <td>-0.000857</td>\n",
              "      <td>-0.223675</td>\n",
              "      <td>-0.688339</td>\n",
              "    </tr>\n",
              "    <tr>\n",
              "      <th>12</th>\n",
              "      <td>-0.139273</td>\n",
              "      <td>-0.223675</td>\n",
              "      <td>0.098600</td>\n",
              "    </tr>\n",
              "    <tr>\n",
              "      <th>13</th>\n",
              "      <td>3.117292</td>\n",
              "      <td>2.404508</td>\n",
              "      <td>0.273475</td>\n",
              "    </tr>\n",
              "    <tr>\n",
              "      <th>14</th>\n",
              "      <td>-0.921956</td>\n",
              "      <td>-0.223675</td>\n",
              "      <td>0.666945</td>\n",
              "    </tr>\n",
              "    <tr>\n",
              "      <th>15</th>\n",
              "      <td>0.376643</td>\n",
              "      <td>1.090417</td>\n",
              "      <td>1.497602</td>\n",
              "    </tr>\n",
              "    <tr>\n",
              "      <th>16</th>\n",
              "      <td>-0.856523</td>\n",
              "      <td>-1.537767</td>\n",
              "      <td>0.841820</td>\n",
              "    </tr>\n",
              "    <tr>\n",
              "      <th>17</th>\n",
              "      <td>-0.962223</td>\n",
              "      <td>-0.223675</td>\n",
              "      <td>1.541321</td>\n",
              "    </tr>\n",
              "    <tr>\n",
              "      <th>18</th>\n",
              "      <td>0.765468</td>\n",
              "      <td>1.090417</td>\n",
              "      <td>-1.650153</td>\n",
              "    </tr>\n",
              "    <tr>\n",
              "      <th>19</th>\n",
              "      <td>1.296484</td>\n",
              "      <td>1.090417</td>\n",
              "      <td>-0.950652</td>\n",
              "    </tr>\n",
              "    <tr>\n",
              "      <th>20</th>\n",
              "      <td>-0.294048</td>\n",
              "      <td>-0.223675</td>\n",
              "      <td>0.054881</td>\n",
              "    </tr>\n",
              "    <tr>\n",
              "      <th>21</th>\n",
              "      <td>-0.141790</td>\n",
              "      <td>-1.537767</td>\n",
              "      <td>1.585040</td>\n",
              "    </tr>\n",
              "    <tr>\n",
              "      <th>22</th>\n",
              "      <td>-0.499157</td>\n",
              "      <td>-0.223675</td>\n",
              "      <td>-1.300403</td>\n",
              "    </tr>\n",
              "    <tr>\n",
              "      <th>23</th>\n",
              "      <td>-0.048673</td>\n",
              "      <td>1.090417</td>\n",
              "      <td>0.448351</td>\n",
              "    </tr>\n",
              "    <tr>\n",
              "      <th>24</th>\n",
              "      <td>2.377392</td>\n",
              "      <td>-0.223675</td>\n",
              "      <td>-0.294870</td>\n",
              "    </tr>\n",
              "    <tr>\n",
              "      <th>25</th>\n",
              "      <td>-1.133356</td>\n",
              "      <td>-0.223675</td>\n",
              "      <td>0.754382</td>\n",
              "    </tr>\n",
              "    <tr>\n",
              "      <th>26</th>\n",
              "      <td>-0.682873</td>\n",
              "      <td>-0.223675</td>\n",
              "      <td>-0.600901</td>\n",
              "    </tr>\n",
              "    <tr>\n",
              "      <th>27</th>\n",
              "      <td>0.661026</td>\n",
              "      <td>-0.223675</td>\n",
              "      <td>-1.300403</td>\n",
              "    </tr>\n",
              "    <tr>\n",
              "      <th>28</th>\n",
              "      <td>0.250810</td>\n",
              "      <td>-0.223675</td>\n",
              "      <td>-0.644620</td>\n",
              "    </tr>\n",
              "    <tr>\n",
              "      <th>29</th>\n",
              "      <td>0.800701</td>\n",
              "      <td>-0.223675</td>\n",
              "      <td>-0.775777</td>\n",
              "    </tr>\n",
              "    <tr>\n",
              "      <th>30</th>\n",
              "      <td>-0.203448</td>\n",
              "      <td>-1.537767</td>\n",
              "      <td>-0.119994</td>\n",
              "    </tr>\n",
              "    <tr>\n",
              "      <th>31</th>\n",
              "      <td>-1.259189</td>\n",
              "      <td>-2.851859</td>\n",
              "      <td>-1.650153</td>\n",
              "    </tr>\n",
              "    <tr>\n",
              "      <th>32</th>\n",
              "      <td>0.049477</td>\n",
              "      <td>1.090417</td>\n",
              "      <td>1.410165</td>\n",
              "    </tr>\n",
              "    <tr>\n",
              "      <th>33</th>\n",
              "      <td>1.429868</td>\n",
              "      <td>-0.223675</td>\n",
              "      <td>1.060414</td>\n",
              "    </tr>\n",
              "    <tr>\n",
              "      <th>34</th>\n",
              "      <td>-0.238682</td>\n",
              "      <td>1.090417</td>\n",
              "      <td>-0.819495</td>\n",
              "    </tr>\n",
              "    <tr>\n",
              "      <th>35</th>\n",
              "      <td>-0.709298</td>\n",
              "      <td>-0.223675</td>\n",
              "      <td>0.317194</td>\n",
              "    </tr>\n",
              "    <tr>\n",
              "      <th>36</th>\n",
              "      <td>-0.958448</td>\n",
              "      <td>-0.223675</td>\n",
              "      <td>-0.906933</td>\n",
              "    </tr>\n",
              "    <tr>\n",
              "      <th>37</th>\n",
              "      <td>0.165243</td>\n",
              "      <td>1.090417</td>\n",
              "      <td>-0.644620</td>\n",
              "    </tr>\n",
              "    <tr>\n",
              "      <th>38</th>\n",
              "      <td>2.786350</td>\n",
              "      <td>1.090417</td>\n",
              "      <td>1.016695</td>\n",
              "    </tr>\n",
              "    <tr>\n",
              "      <th>39</th>\n",
              "      <td>0.202993</td>\n",
              "      <td>1.090417</td>\n",
              "      <td>0.011162</td>\n",
              "    </tr>\n",
              "    <tr>\n",
              "      <th>40</th>\n",
              "      <td>-0.423657</td>\n",
              "      <td>-1.537767</td>\n",
              "      <td>-0.119994</td>\n",
              "    </tr>\n",
              "    <tr>\n",
              "      <th>41</th>\n",
              "      <td>0.298626</td>\n",
              "      <td>-0.223675</td>\n",
              "      <td>-0.251151</td>\n",
              "    </tr>\n",
              "    <tr>\n",
              "      <th>42</th>\n",
              "      <td>0.712618</td>\n",
              "      <td>1.090417</td>\n",
              "      <td>0.623226</td>\n",
              "    </tr>\n",
              "    <tr>\n",
              "      <th>43</th>\n",
              "      <td>-1.007523</td>\n",
              "      <td>-0.223675</td>\n",
              "      <td>1.453884</td>\n",
              "    </tr>\n",
              "    <tr>\n",
              "      <th>44</th>\n",
              "      <td>-1.445423</td>\n",
              "      <td>-1.537767</td>\n",
              "      <td>1.191571</td>\n",
              "    </tr>\n",
              "    <tr>\n",
              "      <th>45</th>\n",
              "      <td>-0.187090</td>\n",
              "      <td>1.090417</td>\n",
              "      <td>0.929258</td>\n",
              "    </tr>\n",
              "    <tr>\n",
              "      <th>46</th>\n",
              "      <td>-1.003748</td>\n",
              "      <td>-0.223675</td>\n",
              "      <td>-1.387840</td>\n",
              "    </tr>\n",
              "  </tbody>\n",
              "</table>\n",
              "</div>"
            ],
            "text/plain": [
              "        sqft     bdrms       age\n",
              "0   0.130010 -0.223675  1.191571\n",
              "1  -0.504190 -0.223675 -0.644620\n",
              "2   0.502476 -0.223675  0.054881\n",
              "3  -0.735723 -1.537767  0.273475\n",
              "4   1.257476  1.090417  1.410165\n",
              "5  -0.019732  1.090417  0.798101\n",
              "6  -0.587240 -0.223675 -1.344121\n",
              "7  -0.721881 -0.223675  0.623226\n",
              "8  -0.781023 -0.223675 -1.256684\n",
              "9  -0.637573 -0.223675 -1.212965\n",
              "10 -0.076357  1.090417 -1.562716\n",
              "11 -0.000857 -0.223675 -0.688339\n",
              "12 -0.139273 -0.223675  0.098600\n",
              "13  3.117292  2.404508  0.273475\n",
              "14 -0.921956 -0.223675  0.666945\n",
              "15  0.376643  1.090417  1.497602\n",
              "16 -0.856523 -1.537767  0.841820\n",
              "17 -0.962223 -0.223675  1.541321\n",
              "18  0.765468  1.090417 -1.650153\n",
              "19  1.296484  1.090417 -0.950652\n",
              "20 -0.294048 -0.223675  0.054881\n",
              "21 -0.141790 -1.537767  1.585040\n",
              "22 -0.499157 -0.223675 -1.300403\n",
              "23 -0.048673  1.090417  0.448351\n",
              "24  2.377392 -0.223675 -0.294870\n",
              "25 -1.133356 -0.223675  0.754382\n",
              "26 -0.682873 -0.223675 -0.600901\n",
              "27  0.661026 -0.223675 -1.300403\n",
              "28  0.250810 -0.223675 -0.644620\n",
              "29  0.800701 -0.223675 -0.775777\n",
              "30 -0.203448 -1.537767 -0.119994\n",
              "31 -1.259189 -2.851859 -1.650153\n",
              "32  0.049477  1.090417  1.410165\n",
              "33  1.429868 -0.223675  1.060414\n",
              "34 -0.238682  1.090417 -0.819495\n",
              "35 -0.709298 -0.223675  0.317194\n",
              "36 -0.958448 -0.223675 -0.906933\n",
              "37  0.165243  1.090417 -0.644620\n",
              "38  2.786350  1.090417  1.016695\n",
              "39  0.202993  1.090417  0.011162\n",
              "40 -0.423657 -1.537767 -0.119994\n",
              "41  0.298626 -0.223675 -0.251151\n",
              "42  0.712618  1.090417  0.623226\n",
              "43 -1.007523 -0.223675  1.453884\n",
              "44 -1.445423 -1.537767  1.191571\n",
              "45 -0.187090  1.090417  0.929258\n",
              "46 -1.003748 -0.223675 -1.387840"
            ]
          },
          "metadata": {
            "tags": []
          },
          "execution_count": 41
        }
      ]
    },
    {
      "metadata": {
        "id": "aTzTgVySzBml",
        "colab_type": "text"
      },
      "cell_type": "markdown",
      "source": [
        "Note: The dataset is too small so we can visually analyze it. "
      ]
    },
    {
      "metadata": {
        "id": "FPl9xR_mynme",
        "colab_type": "code",
        "colab": {
          "base_uri": "https://localhost:8080/",
          "height": 34
        },
        "outputId": "3b5f4db8-3688-4bee-9840-71cbfa0f6e23"
      },
      "cell_type": "code",
      "source": [
        "features = features.values\n",
        "features.shape"
      ],
      "execution_count": 42,
      "outputs": [
        {
          "output_type": "execute_result",
          "data": {
            "text/plain": [
              "(47, 3)"
            ]
          },
          "metadata": {
            "tags": []
          },
          "execution_count": 42
        }
      ]
    },
    {
      "metadata": {
        "id": "yLA7z7B0yuux",
        "colab_type": "code",
        "colab": {
          "base_uri": "https://localhost:8080/",
          "height": 34
        },
        "outputId": "b0846128-de9e-458f-fc95-98eb33ac8fc7"
      },
      "cell_type": "code",
      "source": [
        "labels = df[['price']].values\n",
        "labels.shape"
      ],
      "execution_count": 43,
      "outputs": [
        {
          "output_type": "execute_result",
          "data": {
            "text/plain": [
              "(47, 1)"
            ]
          },
          "metadata": {
            "tags": []
          },
          "execution_count": 43
        }
      ]
    },
    {
      "metadata": {
        "id": "ZMfltIYhyzTg",
        "colab_type": "code",
        "colab": {}
      },
      "cell_type": "code",
      "source": [
        "from tensorflow.keras.models import Sequential\n",
        "from tensorflow.keras.layers import Dense \n",
        "from tensorflow.train import AdamOptimizer"
      ],
      "execution_count": 0,
      "outputs": []
    },
    {
      "metadata": {
        "id": "dV0MWGyHzPyQ",
        "colab_type": "code",
        "colab": {}
      },
      "cell_type": "code",
      "source": [
        "model = Sequential()\n",
        "model.add(Dense(3, input_shape=(3,), activation='relu'))\n",
        "model.add(Dense(1))"
      ],
      "execution_count": 0,
      "outputs": []
    },
    {
      "metadata": {
        "id": "b8J-GVXtzkCX",
        "colab_type": "code",
        "colab": {}
      },
      "cell_type": "code",
      "source": [
        "model.compile(loss='mean_squared_error', optimizer=AdamOptimizer(0.01), metrics=['mean_absolute_error', 'mean_squared_error'])"
      ],
      "execution_count": 0,
      "outputs": []
    },
    {
      "metadata": {
        "id": "eHLEFfXdzqvF",
        "colab_type": "code",
        "colab": {
          "base_uri": "https://localhost:8080/",
          "height": 3454
        },
        "outputId": "4302f796-296d-4533-da8e-a154586eaa75"
      },
      "cell_type": "code",
      "source": [
        "h = model.fit(features, labels, epochs=100, validation_split=0.2)"
      ],
      "execution_count": 47,
      "outputs": [
        {
          "output_type": "stream",
          "text": [
            "Train on 37 samples, validate on 10 samples\n",
            "Epoch 1/100\n",
            "37/37 [==============================] - 0s 4ms/sample - loss: 2.0185 - mean_absolute_error: 0.9751 - mean_squared_error: 2.0185 - val_loss: 1.3670 - val_mean_absolute_error: 0.6585 - val_mean_squared_error: 1.3670\n",
            "Epoch 2/100\n",
            "37/37 [==============================] - 0s 383us/sample - loss: 1.8542 - mean_absolute_error: 0.9467 - mean_squared_error: 1.8542 - val_loss: 1.2757 - val_mean_absolute_error: 0.6335 - val_mean_squared_error: 1.2757\n",
            "Epoch 3/100\n",
            "37/37 [==============================] - 0s 329us/sample - loss: 1.7369 - mean_absolute_error: 0.9277 - mean_squared_error: 1.7369 - val_loss: 1.1834 - val_mean_absolute_error: 0.6052 - val_mean_squared_error: 1.1834\n",
            "Epoch 4/100\n",
            "37/37 [==============================] - 0s 325us/sample - loss: 1.6153 - mean_absolute_error: 0.9028 - mean_squared_error: 1.6153 - val_loss: 1.1043 - val_mean_absolute_error: 0.5902 - val_mean_squared_error: 1.1043\n",
            "Epoch 5/100\n",
            "37/37 [==============================] - 0s 359us/sample - loss: 1.5491 - mean_absolute_error: 0.8877 - mean_squared_error: 1.5491 - val_loss: 1.0345 - val_mean_absolute_error: 0.5794 - val_mean_squared_error: 1.0345\n",
            "Epoch 6/100\n",
            "37/37 [==============================] - 0s 308us/sample - loss: 1.4794 - mean_absolute_error: 0.8734 - mean_squared_error: 1.4794 - val_loss: 0.9720 - val_mean_absolute_error: 0.5688 - val_mean_squared_error: 0.9720\n",
            "Epoch 7/100\n",
            "37/37 [==============================] - 0s 349us/sample - loss: 1.4221 - mean_absolute_error: 0.8613 - mean_squared_error: 1.4221 - val_loss: 0.9190 - val_mean_absolute_error: 0.5597 - val_mean_squared_error: 0.9190\n",
            "Epoch 8/100\n",
            "37/37 [==============================] - 0s 316us/sample - loss: 1.3512 - mean_absolute_error: 0.8446 - mean_squared_error: 1.3512 - val_loss: 0.8713 - val_mean_absolute_error: 0.5519 - val_mean_squared_error: 0.8713\n",
            "Epoch 9/100\n",
            "37/37 [==============================] - 0s 320us/sample - loss: 1.3062 - mean_absolute_error: 0.8316 - mean_squared_error: 1.3062 - val_loss: 0.8255 - val_mean_absolute_error: 0.5521 - val_mean_squared_error: 0.8255\n",
            "Epoch 10/100\n",
            "37/37 [==============================] - 0s 314us/sample - loss: 1.2602 - mean_absolute_error: 0.8183 - mean_squared_error: 1.2602 - val_loss: 0.7859 - val_mean_absolute_error: 0.5519 - val_mean_squared_error: 0.7859\n",
            "Epoch 11/100\n",
            "37/37 [==============================] - 0s 330us/sample - loss: 1.2121 - mean_absolute_error: 0.8033 - mean_squared_error: 1.2121 - val_loss: 0.7514 - val_mean_absolute_error: 0.5504 - val_mean_squared_error: 0.7514\n",
            "Epoch 12/100\n",
            "37/37 [==============================] - 0s 300us/sample - loss: 1.1696 - mean_absolute_error: 0.7900 - mean_squared_error: 1.1696 - val_loss: 0.7206 - val_mean_absolute_error: 0.5491 - val_mean_squared_error: 0.7206\n",
            "Epoch 13/100\n",
            "37/37 [==============================] - 0s 295us/sample - loss: 1.1367 - mean_absolute_error: 0.7812 - mean_squared_error: 1.1367 - val_loss: 0.6932 - val_mean_absolute_error: 0.5486 - val_mean_squared_error: 0.6932\n",
            "Epoch 14/100\n",
            "37/37 [==============================] - 0s 386us/sample - loss: 1.0999 - mean_absolute_error: 0.7718 - mean_squared_error: 1.0999 - val_loss: 0.6695 - val_mean_absolute_error: 0.5482 - val_mean_squared_error: 0.6695\n",
            "Epoch 15/100\n",
            "37/37 [==============================] - 0s 328us/sample - loss: 1.0714 - mean_absolute_error: 0.7651 - mean_squared_error: 1.0714 - val_loss: 0.6486 - val_mean_absolute_error: 0.5477 - val_mean_squared_error: 0.6486\n",
            "Epoch 16/100\n",
            "37/37 [==============================] - 0s 396us/sample - loss: 1.0393 - mean_absolute_error: 0.7570 - mean_squared_error: 1.0393 - val_loss: 0.6297 - val_mean_absolute_error: 0.5474 - val_mean_squared_error: 0.6297\n",
            "Epoch 17/100\n",
            "37/37 [==============================] - 0s 486us/sample - loss: 1.0155 - mean_absolute_error: 0.7505 - mean_squared_error: 1.0155 - val_loss: 0.6124 - val_mean_absolute_error: 0.5466 - val_mean_squared_error: 0.6124\n",
            "Epoch 18/100\n",
            "37/37 [==============================] - 0s 357us/sample - loss: 0.9850 - mean_absolute_error: 0.7427 - mean_squared_error: 0.9850 - val_loss: 0.5950 - val_mean_absolute_error: 0.5440 - val_mean_squared_error: 0.5950\n",
            "Epoch 19/100\n",
            "37/37 [==============================] - 0s 397us/sample - loss: 0.9660 - mean_absolute_error: 0.7369 - mean_squared_error: 0.9660 - val_loss: 0.5761 - val_mean_absolute_error: 0.5424 - val_mean_squared_error: 0.5761\n",
            "Epoch 20/100\n",
            "37/37 [==============================] - 0s 398us/sample - loss: 0.9410 - mean_absolute_error: 0.7292 - mean_squared_error: 0.9410 - val_loss: 0.5590 - val_mean_absolute_error: 0.5415 - val_mean_squared_error: 0.5590\n",
            "Epoch 21/100\n",
            "37/37 [==============================] - 0s 467us/sample - loss: 0.9182 - mean_absolute_error: 0.7221 - mean_squared_error: 0.9182 - val_loss: 0.5443 - val_mean_absolute_error: 0.5400 - val_mean_squared_error: 0.5443\n",
            "Epoch 22/100\n",
            "37/37 [==============================] - 0s 441us/sample - loss: 0.8969 - mean_absolute_error: 0.7149 - mean_squared_error: 0.8969 - val_loss: 0.5306 - val_mean_absolute_error: 0.5381 - val_mean_squared_error: 0.5306\n",
            "Epoch 23/100\n",
            "37/37 [==============================] - 0s 338us/sample - loss: 0.8758 - mean_absolute_error: 0.7079 - mean_squared_error: 0.8758 - val_loss: 0.5157 - val_mean_absolute_error: 0.5343 - val_mean_squared_error: 0.5157\n",
            "Epoch 24/100\n",
            "37/37 [==============================] - 0s 284us/sample - loss: 0.8606 - mean_absolute_error: 0.7021 - mean_squared_error: 0.8606 - val_loss: 0.5016 - val_mean_absolute_error: 0.5303 - val_mean_squared_error: 0.5016\n",
            "Epoch 25/100\n",
            "37/37 [==============================] - 0s 317us/sample - loss: 0.8427 - mean_absolute_error: 0.6959 - mean_squared_error: 0.8427 - val_loss: 0.4902 - val_mean_absolute_error: 0.5257 - val_mean_squared_error: 0.4902\n",
            "Epoch 26/100\n",
            "37/37 [==============================] - 0s 249us/sample - loss: 0.8269 - mean_absolute_error: 0.6898 - mean_squared_error: 0.8269 - val_loss: 0.4795 - val_mean_absolute_error: 0.5225 - val_mean_squared_error: 0.4795\n",
            "Epoch 27/100\n",
            "37/37 [==============================] - 0s 412us/sample - loss: 0.8110 - mean_absolute_error: 0.6835 - mean_squared_error: 0.8110 - val_loss: 0.4687 - val_mean_absolute_error: 0.5219 - val_mean_squared_error: 0.4687\n",
            "Epoch 28/100\n",
            "37/37 [==============================] - 0s 327us/sample - loss: 0.8024 - mean_absolute_error: 0.6812 - mean_squared_error: 0.8024 - val_loss: 0.4584 - val_mean_absolute_error: 0.5221 - val_mean_squared_error: 0.4584\n",
            "Epoch 29/100\n",
            "37/37 [==============================] - 0s 289us/sample - loss: 0.7908 - mean_absolute_error: 0.6791 - mean_squared_error: 0.7908 - val_loss: 0.4491 - val_mean_absolute_error: 0.5211 - val_mean_squared_error: 0.4491\n",
            "Epoch 30/100\n",
            "37/37 [==============================] - 0s 335us/sample - loss: 0.7829 - mean_absolute_error: 0.6776 - mean_squared_error: 0.7829 - val_loss: 0.4408 - val_mean_absolute_error: 0.5186 - val_mean_squared_error: 0.4408\n",
            "Epoch 31/100\n",
            "37/37 [==============================] - 0s 267us/sample - loss: 0.7714 - mean_absolute_error: 0.6721 - mean_squared_error: 0.7714 - val_loss: 0.4333 - val_mean_absolute_error: 0.5146 - val_mean_squared_error: 0.4333\n",
            "Epoch 32/100\n",
            "37/37 [==============================] - 0s 295us/sample - loss: 0.7608 - mean_absolute_error: 0.6652 - mean_squared_error: 0.7608 - val_loss: 0.4266 - val_mean_absolute_error: 0.5096 - val_mean_squared_error: 0.4266\n",
            "Epoch 33/100\n",
            "37/37 [==============================] - 0s 388us/sample - loss: 0.7493 - mean_absolute_error: 0.6570 - mean_squared_error: 0.7493 - val_loss: 0.4208 - val_mean_absolute_error: 0.5051 - val_mean_squared_error: 0.4208\n",
            "Epoch 34/100\n",
            "37/37 [==============================] - 0s 367us/sample - loss: 0.7373 - mean_absolute_error: 0.6492 - mean_squared_error: 0.7373 - val_loss: 0.4154 - val_mean_absolute_error: 0.5012 - val_mean_squared_error: 0.4154\n",
            "Epoch 35/100\n",
            "37/37 [==============================] - 0s 326us/sample - loss: 0.7253 - mean_absolute_error: 0.6418 - mean_squared_error: 0.7253 - val_loss: 0.4112 - val_mean_absolute_error: 0.4981 - val_mean_squared_error: 0.4112\n",
            "Epoch 36/100\n",
            "37/37 [==============================] - 0s 381us/sample - loss: 0.7139 - mean_absolute_error: 0.6333 - mean_squared_error: 0.7139 - val_loss: 0.4081 - val_mean_absolute_error: 0.4975 - val_mean_squared_error: 0.4081\n",
            "Epoch 37/100\n",
            "37/37 [==============================] - 0s 304us/sample - loss: 0.7030 - mean_absolute_error: 0.6258 - mean_squared_error: 0.7030 - val_loss: 0.4054 - val_mean_absolute_error: 0.4984 - val_mean_squared_error: 0.4054\n",
            "Epoch 38/100\n",
            "37/37 [==============================] - 0s 313us/sample - loss: 0.6912 - mean_absolute_error: 0.6163 - mean_squared_error: 0.6912 - val_loss: 0.4028 - val_mean_absolute_error: 0.5036 - val_mean_squared_error: 0.4028\n",
            "Epoch 39/100\n",
            "37/37 [==============================] - 0s 305us/sample - loss: 0.6800 - mean_absolute_error: 0.6074 - mean_squared_error: 0.6800 - val_loss: 0.3971 - val_mean_absolute_error: 0.5059 - val_mean_squared_error: 0.3971\n",
            "Epoch 40/100\n",
            "37/37 [==============================] - 0s 268us/sample - loss: 0.6686 - mean_absolute_error: 0.5984 - mean_squared_error: 0.6686 - val_loss: 0.3893 - val_mean_absolute_error: 0.5046 - val_mean_squared_error: 0.3893\n",
            "Epoch 41/100\n",
            "37/37 [==============================] - 0s 309us/sample - loss: 0.6587 - mean_absolute_error: 0.5901 - mean_squared_error: 0.6587 - val_loss: 0.3812 - val_mean_absolute_error: 0.5024 - val_mean_squared_error: 0.3812\n",
            "Epoch 42/100\n",
            "37/37 [==============================] - 0s 283us/sample - loss: 0.6509 - mean_absolute_error: 0.5838 - mean_squared_error: 0.6509 - val_loss: 0.3728 - val_mean_absolute_error: 0.4977 - val_mean_squared_error: 0.3728\n",
            "Epoch 43/100\n",
            "37/37 [==============================] - 0s 232us/sample - loss: 0.6399 - mean_absolute_error: 0.5802 - mean_squared_error: 0.6399 - val_loss: 0.3639 - val_mean_absolute_error: 0.4902 - val_mean_squared_error: 0.3639\n",
            "Epoch 44/100\n",
            "37/37 [==============================] - 0s 397us/sample - loss: 0.6315 - mean_absolute_error: 0.5778 - mean_squared_error: 0.6315 - val_loss: 0.3571 - val_mean_absolute_error: 0.4850 - val_mean_squared_error: 0.3571\n",
            "Epoch 45/100\n",
            "37/37 [==============================] - 0s 360us/sample - loss: 0.6228 - mean_absolute_error: 0.5757 - mean_squared_error: 0.6228 - val_loss: 0.3513 - val_mean_absolute_error: 0.4806 - val_mean_squared_error: 0.3513\n",
            "Epoch 46/100\n",
            "37/37 [==============================] - 0s 433us/sample - loss: 0.6162 - mean_absolute_error: 0.5746 - mean_squared_error: 0.6162 - val_loss: 0.3454 - val_mean_absolute_error: 0.4761 - val_mean_squared_error: 0.3454\n",
            "Epoch 47/100\n",
            "37/37 [==============================] - 0s 321us/sample - loss: 0.6080 - mean_absolute_error: 0.5717 - mean_squared_error: 0.6080 - val_loss: 0.3390 - val_mean_absolute_error: 0.4729 - val_mean_squared_error: 0.3390\n",
            "Epoch 48/100\n",
            "37/37 [==============================] - 0s 284us/sample - loss: 0.6022 - mean_absolute_error: 0.5695 - mean_squared_error: 0.6022 - val_loss: 0.3329 - val_mean_absolute_error: 0.4697 - val_mean_squared_error: 0.3329\n",
            "Epoch 49/100\n",
            "37/37 [==============================] - 0s 301us/sample - loss: 0.5945 - mean_absolute_error: 0.5668 - mean_squared_error: 0.5945 - val_loss: 0.3276 - val_mean_absolute_error: 0.4668 - val_mean_squared_error: 0.3276\n",
            "Epoch 50/100\n",
            "37/37 [==============================] - 0s 338us/sample - loss: 0.5881 - mean_absolute_error: 0.5644 - mean_squared_error: 0.5881 - val_loss: 0.3226 - val_mean_absolute_error: 0.4638 - val_mean_squared_error: 0.3226\n",
            "Epoch 51/100\n",
            "37/37 [==============================] - 0s 305us/sample - loss: 0.5812 - mean_absolute_error: 0.5613 - mean_squared_error: 0.5812 - val_loss: 0.3176 - val_mean_absolute_error: 0.4595 - val_mean_squared_error: 0.3176\n",
            "Epoch 52/100\n",
            "37/37 [==============================] - 0s 286us/sample - loss: 0.5743 - mean_absolute_error: 0.5588 - mean_squared_error: 0.5743 - val_loss: 0.3131 - val_mean_absolute_error: 0.4531 - val_mean_squared_error: 0.3131\n",
            "Epoch 53/100\n",
            "37/37 [==============================] - 0s 302us/sample - loss: 0.5698 - mean_absolute_error: 0.5604 - mean_squared_error: 0.5698 - val_loss: 0.3106 - val_mean_absolute_error: 0.4475 - val_mean_squared_error: 0.3106\n",
            "Epoch 54/100\n",
            "37/37 [==============================] - 0s 336us/sample - loss: 0.5658 - mean_absolute_error: 0.5603 - mean_squared_error: 0.5658 - val_loss: 0.3085 - val_mean_absolute_error: 0.4432 - val_mean_squared_error: 0.3085\n",
            "Epoch 55/100\n",
            "37/37 [==============================] - 0s 284us/sample - loss: 0.5617 - mean_absolute_error: 0.5578 - mean_squared_error: 0.5617 - val_loss: 0.3056 - val_mean_absolute_error: 0.4389 - val_mean_squared_error: 0.3056\n",
            "Epoch 56/100\n",
            "37/37 [==============================] - 0s 308us/sample - loss: 0.5576 - mean_absolute_error: 0.5568 - mean_squared_error: 0.5576 - val_loss: 0.3041 - val_mean_absolute_error: 0.4348 - val_mean_squared_error: 0.3041\n",
            "Epoch 57/100\n",
            "37/37 [==============================] - 0s 277us/sample - loss: 0.5543 - mean_absolute_error: 0.5563 - mean_squared_error: 0.5543 - val_loss: 0.3041 - val_mean_absolute_error: 0.4339 - val_mean_squared_error: 0.3041\n",
            "Epoch 58/100\n",
            "37/37 [==============================] - 0s 358us/sample - loss: 0.5512 - mean_absolute_error: 0.5536 - mean_squared_error: 0.5512 - val_loss: 0.3038 - val_mean_absolute_error: 0.4337 - val_mean_squared_error: 0.3038\n",
            "Epoch 59/100\n",
            "37/37 [==============================] - 0s 419us/sample - loss: 0.5473 - mean_absolute_error: 0.5509 - mean_squared_error: 0.5473 - val_loss: 0.3026 - val_mean_absolute_error: 0.4321 - val_mean_squared_error: 0.3026\n",
            "Epoch 60/100\n",
            "37/37 [==============================] - 0s 305us/sample - loss: 0.5435 - mean_absolute_error: 0.5499 - mean_squared_error: 0.5435 - val_loss: 0.2994 - val_mean_absolute_error: 0.4277 - val_mean_squared_error: 0.2994\n",
            "Epoch 61/100\n",
            "37/37 [==============================] - 0s 449us/sample - loss: 0.5415 - mean_absolute_error: 0.5514 - mean_squared_error: 0.5415 - val_loss: 0.2959 - val_mean_absolute_error: 0.4235 - val_mean_squared_error: 0.2959\n",
            "Epoch 62/100\n",
            "37/37 [==============================] - 0s 293us/sample - loss: 0.5386 - mean_absolute_error: 0.5529 - mean_squared_error: 0.5386 - val_loss: 0.2913 - val_mean_absolute_error: 0.4226 - val_mean_squared_error: 0.2913\n",
            "Epoch 63/100\n",
            "37/37 [==============================] - 0s 332us/sample - loss: 0.5367 - mean_absolute_error: 0.5552 - mean_squared_error: 0.5367 - val_loss: 0.2874 - val_mean_absolute_error: 0.4216 - val_mean_squared_error: 0.2874\n",
            "Epoch 64/100\n",
            "37/37 [==============================] - 0s 319us/sample - loss: 0.5336 - mean_absolute_error: 0.5551 - mean_squared_error: 0.5336 - val_loss: 0.2877 - val_mean_absolute_error: 0.4255 - val_mean_squared_error: 0.2877\n",
            "Epoch 65/100\n",
            "37/37 [==============================] - 0s 446us/sample - loss: 0.5267 - mean_absolute_error: 0.5484 - mean_squared_error: 0.5267 - val_loss: 0.2926 - val_mean_absolute_error: 0.4340 - val_mean_squared_error: 0.2926\n",
            "Epoch 66/100\n",
            "37/37 [==============================] - 0s 336us/sample - loss: 0.5204 - mean_absolute_error: 0.5421 - mean_squared_error: 0.5204 - val_loss: 0.2973 - val_mean_absolute_error: 0.4415 - val_mean_squared_error: 0.2973\n",
            "Epoch 67/100\n",
            "37/37 [==============================] - 0s 322us/sample - loss: 0.5154 - mean_absolute_error: 0.5383 - mean_squared_error: 0.5154 - val_loss: 0.3001 - val_mean_absolute_error: 0.4464 - val_mean_squared_error: 0.3001\n",
            "Epoch 68/100\n",
            "37/37 [==============================] - 0s 304us/sample - loss: 0.5109 - mean_absolute_error: 0.5326 - mean_squared_error: 0.5109 - val_loss: 0.3034 - val_mean_absolute_error: 0.4508 - val_mean_squared_error: 0.3034\n",
            "Epoch 69/100\n",
            "37/37 [==============================] - 0s 299us/sample - loss: 0.5083 - mean_absolute_error: 0.5294 - mean_squared_error: 0.5083 - val_loss: 0.3087 - val_mean_absolute_error: 0.4590 - val_mean_squared_error: 0.3087\n",
            "Epoch 70/100\n",
            "37/37 [==============================] - 0s 330us/sample - loss: 0.5058 - mean_absolute_error: 0.5236 - mean_squared_error: 0.5058 - val_loss: 0.3136 - val_mean_absolute_error: 0.4674 - val_mean_squared_error: 0.3136\n",
            "Epoch 71/100\n",
            "37/37 [==============================] - 0s 340us/sample - loss: 0.5051 - mean_absolute_error: 0.5215 - mean_squared_error: 0.5051 - val_loss: 0.3175 - val_mean_absolute_error: 0.4740 - val_mean_squared_error: 0.3175\n",
            "Epoch 72/100\n",
            "37/37 [==============================] - 0s 347us/sample - loss: 0.5039 - mean_absolute_error: 0.5183 - mean_squared_error: 0.5039 - val_loss: 0.3176 - val_mean_absolute_error: 0.4749 - val_mean_squared_error: 0.3176\n",
            "Epoch 73/100\n",
            "37/37 [==============================] - 0s 298us/sample - loss: 0.5016 - mean_absolute_error: 0.5186 - mean_squared_error: 0.5016 - val_loss: 0.3161 - val_mean_absolute_error: 0.4738 - val_mean_squared_error: 0.3161\n",
            "Epoch 74/100\n",
            "37/37 [==============================] - 0s 362us/sample - loss: 0.4982 - mean_absolute_error: 0.5192 - mean_squared_error: 0.4982 - val_loss: 0.3160 - val_mean_absolute_error: 0.4747 - val_mean_squared_error: 0.3160\n",
            "Epoch 75/100\n",
            "37/37 [==============================] - 0s 332us/sample - loss: 0.4950 - mean_absolute_error: 0.5182 - mean_squared_error: 0.4950 - val_loss: 0.3151 - val_mean_absolute_error: 0.4736 - val_mean_squared_error: 0.3151\n",
            "Epoch 76/100\n",
            "37/37 [==============================] - 0s 297us/sample - loss: 0.4929 - mean_absolute_error: 0.5182 - mean_squared_error: 0.4929 - val_loss: 0.3133 - val_mean_absolute_error: 0.4708 - val_mean_squared_error: 0.3133\n",
            "Epoch 77/100\n",
            "37/37 [==============================] - 0s 357us/sample - loss: 0.4903 - mean_absolute_error: 0.5177 - mean_squared_error: 0.4903 - val_loss: 0.3117 - val_mean_absolute_error: 0.4691 - val_mean_squared_error: 0.3117\n",
            "Epoch 78/100\n",
            "37/37 [==============================] - 0s 389us/sample - loss: 0.4877 - mean_absolute_error: 0.5166 - mean_squared_error: 0.4877 - val_loss: 0.3100 - val_mean_absolute_error: 0.4679 - val_mean_squared_error: 0.3100\n",
            "Epoch 79/100\n",
            "37/37 [==============================] - 0s 323us/sample - loss: 0.4854 - mean_absolute_error: 0.5159 - mean_squared_error: 0.4854 - val_loss: 0.3062 - val_mean_absolute_error: 0.4655 - val_mean_squared_error: 0.3062\n",
            "Epoch 80/100\n",
            "37/37 [==============================] - 0s 572us/sample - loss: 0.4811 - mean_absolute_error: 0.5173 - mean_squared_error: 0.4811 - val_loss: 0.3012 - val_mean_absolute_error: 0.4615 - val_mean_squared_error: 0.3012\n",
            "Epoch 81/100\n",
            "37/37 [==============================] - 0s 383us/sample - loss: 0.4809 - mean_absolute_error: 0.5231 - mean_squared_error: 0.4809 - val_loss: 0.2987 - val_mean_absolute_error: 0.4588 - val_mean_squared_error: 0.2987\n",
            "Epoch 82/100\n",
            "37/37 [==============================] - 0s 294us/sample - loss: 0.4812 - mean_absolute_error: 0.5273 - mean_squared_error: 0.4812 - val_loss: 0.2986 - val_mean_absolute_error: 0.4572 - val_mean_squared_error: 0.2986\n",
            "Epoch 83/100\n",
            "37/37 [==============================] - 0s 285us/sample - loss: 0.4809 - mean_absolute_error: 0.5308 - mean_squared_error: 0.4809 - val_loss: 0.2990 - val_mean_absolute_error: 0.4554 - val_mean_squared_error: 0.2990\n",
            "Epoch 84/100\n",
            "37/37 [==============================] - 0s 297us/sample - loss: 0.4782 - mean_absolute_error: 0.5299 - mean_squared_error: 0.4782 - val_loss: 0.3000 - val_mean_absolute_error: 0.4540 - val_mean_squared_error: 0.3000\n",
            "Epoch 85/100\n",
            "37/37 [==============================] - 0s 320us/sample - loss: 0.4753 - mean_absolute_error: 0.5279 - mean_squared_error: 0.4753 - val_loss: 0.3019 - val_mean_absolute_error: 0.4533 - val_mean_squared_error: 0.3019\n",
            "Epoch 86/100\n",
            "37/37 [==============================] - 0s 390us/sample - loss: 0.4703 - mean_absolute_error: 0.5216 - mean_squared_error: 0.4703 - val_loss: 0.3028 - val_mean_absolute_error: 0.4581 - val_mean_squared_error: 0.3028\n",
            "Epoch 87/100\n",
            "37/37 [==============================] - 0s 322us/sample - loss: 0.4660 - mean_absolute_error: 0.5158 - mean_squared_error: 0.4660 - val_loss: 0.3041 - val_mean_absolute_error: 0.4621 - val_mean_squared_error: 0.3041\n",
            "Epoch 88/100\n",
            "37/37 [==============================] - 0s 301us/sample - loss: 0.4617 - mean_absolute_error: 0.5102 - mean_squared_error: 0.4617 - val_loss: 0.3074 - val_mean_absolute_error: 0.4679 - val_mean_squared_error: 0.3074\n",
            "Epoch 89/100\n",
            "37/37 [==============================] - 0s 279us/sample - loss: 0.4592 - mean_absolute_error: 0.5057 - mean_squared_error: 0.4592 - val_loss: 0.3115 - val_mean_absolute_error: 0.4735 - val_mean_squared_error: 0.3115\n",
            "Epoch 90/100\n",
            "37/37 [==============================] - 0s 358us/sample - loss: 0.4573 - mean_absolute_error: 0.5000 - mean_squared_error: 0.4573 - val_loss: 0.3151 - val_mean_absolute_error: 0.4770 - val_mean_squared_error: 0.3151\n",
            "Epoch 91/100\n",
            "37/37 [==============================] - 0s 307us/sample - loss: 0.4569 - mean_absolute_error: 0.4947 - mean_squared_error: 0.4569 - val_loss: 0.3162 - val_mean_absolute_error: 0.4794 - val_mean_squared_error: 0.3162\n",
            "Epoch 92/100\n",
            "37/37 [==============================] - 0s 312us/sample - loss: 0.4563 - mean_absolute_error: 0.4896 - mean_squared_error: 0.4563 - val_loss: 0.3148 - val_mean_absolute_error: 0.4799 - val_mean_squared_error: 0.3148\n",
            "Epoch 93/100\n",
            "37/37 [==============================] - 0s 318us/sample - loss: 0.4545 - mean_absolute_error: 0.4866 - mean_squared_error: 0.4545 - val_loss: 0.3136 - val_mean_absolute_error: 0.4803 - val_mean_squared_error: 0.3136\n",
            "Epoch 94/100\n",
            "37/37 [==============================] - 0s 295us/sample - loss: 0.4536 - mean_absolute_error: 0.4854 - mean_squared_error: 0.4536 - val_loss: 0.3133 - val_mean_absolute_error: 0.4817 - val_mean_squared_error: 0.3133\n",
            "Epoch 95/100\n",
            "37/37 [==============================] - 0s 332us/sample - loss: 0.4512 - mean_absolute_error: 0.4827 - mean_squared_error: 0.4512 - val_loss: 0.3167 - val_mean_absolute_error: 0.4867 - val_mean_squared_error: 0.3167\n",
            "Epoch 96/100\n",
            "37/37 [==============================] - 0s 316us/sample - loss: 0.4501 - mean_absolute_error: 0.4800 - mean_squared_error: 0.4501 - val_loss: 0.3179 - val_mean_absolute_error: 0.4888 - val_mean_squared_error: 0.3179\n",
            "Epoch 97/100\n",
            "37/37 [==============================] - 0s 450us/sample - loss: 0.4478 - mean_absolute_error: 0.4785 - mean_squared_error: 0.4478 - val_loss: 0.3144 - val_mean_absolute_error: 0.4850 - val_mean_squared_error: 0.3144\n",
            "Epoch 98/100\n",
            "37/37 [==============================] - 0s 344us/sample - loss: 0.4434 - mean_absolute_error: 0.4788 - mean_squared_error: 0.4434 - val_loss: 0.3109 - val_mean_absolute_error: 0.4805 - val_mean_squared_error: 0.3109\n",
            "Epoch 99/100\n",
            "37/37 [==============================] - 0s 283us/sample - loss: 0.4396 - mean_absolute_error: 0.4787 - mean_squared_error: 0.4396 - val_loss: 0.3064 - val_mean_absolute_error: 0.4742 - val_mean_squared_error: 0.3064\n",
            "Epoch 100/100\n",
            "37/37 [==============================] - 0s 257us/sample - loss: 0.4365 - mean_absolute_error: 0.4787 - mean_squared_error: 0.4365 - val_loss: 0.3005 - val_mean_absolute_error: 0.4657 - val_mean_squared_error: 0.3005\n"
          ],
          "name": "stdout"
        }
      ]
    },
    {
      "metadata": {
        "id": "aX84SDwhzvFm",
        "colab_type": "code",
        "colab": {
          "base_uri": "https://localhost:8080/",
          "height": 282
        },
        "outputId": "c7ae4537-d2d4-4722-ab22-a6c2adeb4ffa"
      },
      "cell_type": "code",
      "source": [
        "import matplotlib.pyplot as plt\n",
        "\n",
        "plt.plot(h.history['mean_squared_error'])\n"
      ],
      "execution_count": 48,
      "outputs": [
        {
          "output_type": "execute_result",
          "data": {
            "text/plain": [
              "[<matplotlib.lines.Line2D at 0x7f4b293a4a20>]"
            ]
          },
          "metadata": {
            "tags": []
          },
          "execution_count": 48
        },
        {
          "output_type": "display_data",
          "data": {
            "image/png": "[encoded data removed]",
            "text/plain": [
              "<Figure size 432x288 with 1 Axes>"
            ]
          },
          "metadata": {
            "tags": []
          }
        }
      ]
    },
    {
      "metadata": {
        "id": "9mVc1g6L21oJ",
        "colab_type": "text"
      },
      "cell_type": "markdown",
      "source": [
        "Note: Mean Absolute Error goes down as our data gets trained. "
      ]
    },
    {
      "metadata": {
        "id": "ZWrz4HhN25Ko",
        "colab_type": "code",
        "colab": {}
      },
      "cell_type": "code",
      "source": [
        ""
      ],
      "execution_count": 0,
      "outputs": []
    }
  ]
}